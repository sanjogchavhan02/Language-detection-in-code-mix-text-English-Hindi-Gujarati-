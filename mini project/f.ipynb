{
 "cells": [
  {
   "cell_type": "code",
   "execution_count": 1,
   "metadata": {
    "id": "RsV7QJqEHlP-"
   },
   "outputs": [],
   "source": [
    "import pandas as pd\n",
    "import numpy as np\n",
    "import re"
   ]
  },
  {
   "cell_type": "code",
   "execution_count": 2,
   "metadata": {
    "colab": {
     "base_uri": "https://localhost:8080/",
     "height": 206
    },
    "id": "XA9mKXW1I2qm",
    "outputId": "20b48311-20c8-4b16-c0e1-b45fbd21d1fe"
   },
   "outputs": [
    {
     "data": {
      "text/html": [
       "<div>\n",
       "<style scoped>\n",
       "    .dataframe tbody tr th:only-of-type {\n",
       "        vertical-align: middle;\n",
       "    }\n",
       "\n",
       "    .dataframe tbody tr th {\n",
       "        vertical-align: top;\n",
       "    }\n",
       "\n",
       "    .dataframe thead th {\n",
       "        text-align: right;\n",
       "    }\n",
       "</style>\n",
       "<table border=\"1\" class=\"dataframe\">\n",
       "  <thead>\n",
       "    <tr style=\"text-align: right;\">\n",
       "      <th></th>\n",
       "      <th>LABEL</th>\n",
       "      <th>COMMENT</th>\n",
       "    </tr>\n",
       "  </thead>\n",
       "  <tbody>\n",
       "    <tr>\n",
       "      <th>0</th>\n",
       "      <td>EM</td>\n",
       "      <td>થેંક્યુ સર 👌👌👌👌</td>\n",
       "    </tr>\n",
       "    <tr>\n",
       "      <th>1</th>\n",
       "      <td>EM</td>\n",
       "      <td>વેરી ગુડ સાહેબ</td>\n",
       "    </tr>\n",
       "    <tr>\n",
       "      <th>2</th>\n",
       "      <td>EM</td>\n",
       "      <td>સુપર</td>\n",
       "    </tr>\n",
       "    <tr>\n",
       "      <th>3</th>\n",
       "      <td>EM</td>\n",
       "      <td>વેરી ગુડ હિમેશ રેશમિયા</td>\n",
       "    </tr>\n",
       "    <tr>\n",
       "      <th>4</th>\n",
       "      <td>EM</td>\n",
       "      <td>I m ગુજરાતીH R</td>\n",
       "    </tr>\n",
       "  </tbody>\n",
       "</table>\n",
       "</div>"
      ],
      "text/plain": [
       "  LABEL                  COMMENT\n",
       "0    EM          થેંક્યુ સર 👌👌👌👌\n",
       "1    EM           વેરી ગુડ સાહેબ\n",
       "2    EM                     સુપર\n",
       "3    EM  વેરી ગુડ હિમેશ રેશમિયા \n",
       "4    EM           I m ગુજરાતીH R"
      ]
     },
     "execution_count": 2,
     "metadata": {},
     "output_type": "execute_result"
    }
   ],
   "source": [
    "engmixdataset = pd.read_csv('Eenglish Mixed 21.csv')\n",
    "engmixdataset=engmixdataset[['LABEL','comclean']]\n",
    "engmixdataset.rename(columns = {'comclean':'COMMENT'}, inplace = True)\n",
    "engmixdataset.head()"
   ]
  },
  {
   "cell_type": "code",
   "execution_count": 3,
   "metadata": {
    "colab": {
     "base_uri": "https://localhost:8080/",
     "height": 206
    },
    "id": "mdvPMrePKJsn",
    "outputId": "4c6ebc49-4b96-4342-a850-68b7b8166442"
   },
   "outputs": [
    {
     "data": {
      "text/html": [
       "<div>\n",
       "<style scoped>\n",
       "    .dataframe tbody tr th:only-of-type {\n",
       "        vertical-align: middle;\n",
       "    }\n",
       "\n",
       "    .dataframe tbody tr th {\n",
       "        vertical-align: top;\n",
       "    }\n",
       "\n",
       "    .dataframe thead th {\n",
       "        text-align: right;\n",
       "    }\n",
       "</style>\n",
       "<table border=\"1\" class=\"dataframe\">\n",
       "  <thead>\n",
       "    <tr style=\"text-align: right;\">\n",
       "      <th></th>\n",
       "      <th>LABEL</th>\n",
       "      <th>COMMENT</th>\n",
       "    </tr>\n",
       "  </thead>\n",
       "  <tbody>\n",
       "    <tr>\n",
       "      <th>0</th>\n",
       "      <td>EP</td>\n",
       "      <td>You are very beautiful</td>\n",
       "    </tr>\n",
       "    <tr>\n",
       "      <th>1</th>\n",
       "      <td>EP</td>\n",
       "      <td>Nice</td>\n",
       "    </tr>\n",
       "    <tr>\n",
       "      <th>2</th>\n",
       "      <td>EP</td>\n",
       "      <td>Nice video jitu bhai</td>\n",
       "    </tr>\n",
       "    <tr>\n",
       "      <th>3</th>\n",
       "      <td>EP</td>\n",
       "      <td>Super</td>\n",
       "    </tr>\n",
       "    <tr>\n",
       "      <th>4</th>\n",
       "      <td>EP</td>\n",
       "      <td>Supar comedy</td>\n",
       "    </tr>\n",
       "  </tbody>\n",
       "</table>\n",
       "</div>"
      ],
      "text/plain": [
       "  LABEL                 COMMENT\n",
       "0    EP  You are very beautiful\n",
       "1    EP                    Nice\n",
       "2    EP   Nice video jitu bhai \n",
       "3    EP                   Super\n",
       "4    EP            Supar comedy"
      ]
     },
     "execution_count": 3,
     "metadata": {},
     "output_type": "execute_result"
    }
   ],
   "source": [
    "engpuredataset = pd.read_csv('English Pure 2460.csv')\n",
    "engpuredataset=engpuredataset[['LABEL','cleaned']]\n",
    "engpuredataset.rename(columns = {'cleaned':'COMMENT'}, inplace = True)\n",
    "engpuredataset.head()"
   ]
  },
  {
   "cell_type": "code",
   "execution_count": 4,
   "metadata": {
    "colab": {
     "base_uri": "https://localhost:8080/",
     "height": 423
    },
    "id": "ImaR5RnJQpEQ",
    "outputId": "f446ec16-d605-4140-bfcb-5cc4d67f5e44"
   },
   "outputs": [
    {
     "data": {
      "text/html": [
       "<div>\n",
       "<style scoped>\n",
       "    .dataframe tbody tr th:only-of-type {\n",
       "        vertical-align: middle;\n",
       "    }\n",
       "\n",
       "    .dataframe tbody tr th {\n",
       "        vertical-align: top;\n",
       "    }\n",
       "\n",
       "    .dataframe thead th {\n",
       "        text-align: right;\n",
       "    }\n",
       "</style>\n",
       "<table border=\"1\" class=\"dataframe\">\n",
       "  <thead>\n",
       "    <tr style=\"text-align: right;\">\n",
       "      <th></th>\n",
       "      <th>LABEL</th>\n",
       "      <th>COMMENT</th>\n",
       "    </tr>\n",
       "  </thead>\n",
       "  <tbody>\n",
       "    <tr>\n",
       "      <th>0</th>\n",
       "      <td>EM</td>\n",
       "      <td>થેંક્યુ સર 👌👌👌👌</td>\n",
       "    </tr>\n",
       "    <tr>\n",
       "      <th>1</th>\n",
       "      <td>EM</td>\n",
       "      <td>વેરી ગુડ સાહેબ</td>\n",
       "    </tr>\n",
       "    <tr>\n",
       "      <th>2</th>\n",
       "      <td>EM</td>\n",
       "      <td>સુપર</td>\n",
       "    </tr>\n",
       "    <tr>\n",
       "      <th>3</th>\n",
       "      <td>EM</td>\n",
       "      <td>વેરી ગુડ હિમેશ રેશમિયા</td>\n",
       "    </tr>\n",
       "    <tr>\n",
       "      <th>4</th>\n",
       "      <td>EM</td>\n",
       "      <td>I m ગુજરાતીH R</td>\n",
       "    </tr>\n",
       "    <tr>\n",
       "      <th>...</th>\n",
       "      <td>...</td>\n",
       "      <td>...</td>\n",
       "    </tr>\n",
       "    <tr>\n",
       "      <th>2396</th>\n",
       "      <td>EP</td>\n",
       "      <td>You say to subscribe at starting or at end</td>\n",
       "    </tr>\n",
       "    <tr>\n",
       "      <th>2397</th>\n",
       "      <td>EP</td>\n",
       "      <td>In this app there is no picture</td>\n",
       "    </tr>\n",
       "    <tr>\n",
       "      <th>2398</th>\n",
       "      <td>EP</td>\n",
       "      <td>Everything is possible if Modi is there</td>\n",
       "    </tr>\n",
       "    <tr>\n",
       "      <th>2399</th>\n",
       "      <td>EP</td>\n",
       "      <td>Very good Himesh Reshamiya</td>\n",
       "    </tr>\n",
       "    <tr>\n",
       "      <th>2400</th>\n",
       "      <td>EP</td>\n",
       "      <td>My Favorite Song</td>\n",
       "    </tr>\n",
       "  </tbody>\n",
       "</table>\n",
       "<p>2421 rows × 2 columns</p>\n",
       "</div>"
      ],
      "text/plain": [
       "     LABEL                                     COMMENT\n",
       "0       EM                             થેંક્યુ સર 👌👌👌👌\n",
       "1       EM                              વેરી ગુડ સાહેબ\n",
       "2       EM                                        સુપર\n",
       "3       EM                     વેરી ગુડ હિમેશ રેશમિયા \n",
       "4       EM                              I m ગુજરાતીH R\n",
       "...    ...                                         ...\n",
       "2396    EP  You say to subscribe at starting or at end\n",
       "2397    EP             In this app there is no picture\n",
       "2398    EP     Everything is possible if Modi is there\n",
       "2399    EP                  Very good Himesh Reshamiya\n",
       "2400    EP                            My Favorite Song\n",
       "\n",
       "[2421 rows x 2 columns]"
      ]
     },
     "execution_count": 4,
     "metadata": {},
     "output_type": "execute_result"
    }
   ],
   "source": [
    "engdataset = pd.concat([engmixdataset, engpuredataset])\n",
    "engdataset.isnull().sum()\n",
    "engdataset"
   ]
  },
  {
   "cell_type": "code",
   "execution_count": 5,
   "metadata": {
    "colab": {
     "base_uri": "https://localhost:8080/",
     "height": 206
    },
    "id": "MkA6y3UnMAMk",
    "outputId": "c5c8fb3f-f264-4912-fe65-113b02b2f09e"
   },
   "outputs": [
    {
     "data": {
      "text/html": [
       "<div>\n",
       "<style scoped>\n",
       "    .dataframe tbody tr th:only-of-type {\n",
       "        vertical-align: middle;\n",
       "    }\n",
       "\n",
       "    .dataframe tbody tr th {\n",
       "        vertical-align: top;\n",
       "    }\n",
       "\n",
       "    .dataframe thead th {\n",
       "        text-align: right;\n",
       "    }\n",
       "</style>\n",
       "<table border=\"1\" class=\"dataframe\">\n",
       "  <thead>\n",
       "    <tr style=\"text-align: right;\">\n",
       "      <th></th>\n",
       "      <th>LABEL</th>\n",
       "      <th>COMMENT</th>\n",
       "    </tr>\n",
       "  </thead>\n",
       "  <tbody>\n",
       "    <tr>\n",
       "      <th>0</th>\n",
       "      <td>GM</td>\n",
       "      <td>Atali Sundar mam as bakuda jode nathi sobhati .</td>\n",
       "    </tr>\n",
       "    <tr>\n",
       "      <th>1</th>\n",
       "      <td>GM</td>\n",
       "      <td>Mast idiea  maryo Ho....tamari sikhaman amare ...</td>\n",
       "    </tr>\n",
       "    <tr>\n",
       "      <th>2</th>\n",
       "      <td>GM</td>\n",
       "      <td>Va jitu bhai va</td>\n",
       "    </tr>\n",
       "    <tr>\n",
       "      <th>3</th>\n",
       "      <td>GM</td>\n",
       "      <td>Lala</td>\n",
       "    </tr>\n",
       "    <tr>\n",
       "      <th>4</th>\n",
       "      <td>GM</td>\n",
       "      <td>Mari baby pan jove se</td>\n",
       "    </tr>\n",
       "  </tbody>\n",
       "</table>\n",
       "</div>"
      ],
      "text/plain": [
       "  LABEL                                            COMMENT\n",
       "0    GM  Atali Sundar mam as bakuda jode nathi sobhati .  \n",
       "1    GM  Mast idiea  maryo Ho....tamari sikhaman amare ...\n",
       "2    GM                                    Va jitu bhai va\n",
       "3    GM                                               Lala\n",
       "4    GM                              Mari baby pan jove se"
      ]
     },
     "execution_count": 5,
     "metadata": {},
     "output_type": "execute_result"
    }
   ],
   "source": [
    "gujmixdataset = pd.read_csv('Gujarati Mixed.csv')\n",
    "gujmixdataset=gujmixdataset[['LABEL','COMMENT']]\n",
    "gujmixdataset.head()"
   ]
  },
  {
   "cell_type": "code",
   "execution_count": 6,
   "metadata": {
    "colab": {
     "base_uri": "https://localhost:8080/",
     "height": 206
    },
    "id": "RAgqwY4IMKFa",
    "outputId": "5d4c69d8-84c2-4142-8352-68bc0fa7a68d"
   },
   "outputs": [
    {
     "data": {
      "text/html": [
       "<div>\n",
       "<style scoped>\n",
       "    .dataframe tbody tr th:only-of-type {\n",
       "        vertical-align: middle;\n",
       "    }\n",
       "\n",
       "    .dataframe tbody tr th {\n",
       "        vertical-align: top;\n",
       "    }\n",
       "\n",
       "    .dataframe thead th {\n",
       "        text-align: right;\n",
       "    }\n",
       "</style>\n",
       "<table border=\"1\" class=\"dataframe\">\n",
       "  <thead>\n",
       "    <tr style=\"text-align: right;\">\n",
       "      <th></th>\n",
       "      <th>LABEL</th>\n",
       "      <th>COMMENT</th>\n",
       "    </tr>\n",
       "  </thead>\n",
       "  <tbody>\n",
       "    <tr>\n",
       "      <th>0</th>\n",
       "      <td>GP</td>\n",
       "      <td>વિદ્યાર્થીઓ વચ્ચે બોલે છે એટલે ભણવામાં મજા નથી...</td>\n",
       "    </tr>\n",
       "    <tr>\n",
       "      <th>1</th>\n",
       "      <td>GP</td>\n",
       "      <td>ગુજરાતી ઇતિહાસ આવી રીતે તમે જ શીખવી શકો બીજું ...</td>\n",
       "    </tr>\n",
       "    <tr>\n",
       "      <th>2</th>\n",
       "      <td>GP</td>\n",
       "      <td>બહુ જ સરળ શબ્દો માં સચોટ શિક્ષણ  પદ્ધતિ  અભિનંદન</td>\n",
       "    </tr>\n",
       "    <tr>\n",
       "      <th>3</th>\n",
       "      <td>GP</td>\n",
       "      <td>ખુબ જ સરસ ભણાવો છોતમારા ભણાવેલા સબ્દો બધા યાદ ...</td>\n",
       "    </tr>\n",
       "    <tr>\n",
       "      <th>4</th>\n",
       "      <td>GP</td>\n",
       "      <td>પ્લે સ્ટોર માં બતાવતા નથી</td>\n",
       "    </tr>\n",
       "  </tbody>\n",
       "</table>\n",
       "</div>"
      ],
      "text/plain": [
       "  LABEL                                            COMMENT\n",
       "0    GP  વિદ્યાર્થીઓ વચ્ચે બોલે છે એટલે ભણવામાં મજા નથી...\n",
       "1    GP  ગુજરાતી ઇતિહાસ આવી રીતે તમે જ શીખવી શકો બીજું ...\n",
       "2    GP  બહુ જ સરળ શબ્દો માં સચોટ શિક્ષણ  પદ્ધતિ  અભિનંદન \n",
       "3    GP  ખુબ જ સરસ ભણાવો છોતમારા ભણાવેલા સબ્દો બધા યાદ ...\n",
       "4    GP                          પ્લે સ્ટોર માં બતાવતા નથી"
      ]
     },
     "execution_count": 6,
     "metadata": {},
     "output_type": "execute_result"
    }
   ],
   "source": [
    "gujpuredataset = pd.read_csv('Gujarati Pure 674.csv')\n",
    "gujpuredataset=gujpuredataset[['LABEL','cleaned']]\n",
    "gujpuredataset.rename(columns = {'cleaned':'COMMENT'}, inplace = True)\n",
    "gujpuredataset.head()"
   ]
  },
  {
   "cell_type": "code",
   "execution_count": 7,
   "metadata": {
    "colab": {
     "base_uri": "https://localhost:8080/",
     "height": 423
    },
    "id": "SREzaPMvRBQx",
    "outputId": "debb3749-da0e-4392-83cb-23abecbfcf0e"
   },
   "outputs": [
    {
     "data": {
      "text/html": [
       "<div>\n",
       "<style scoped>\n",
       "    .dataframe tbody tr th:only-of-type {\n",
       "        vertical-align: middle;\n",
       "    }\n",
       "\n",
       "    .dataframe tbody tr th {\n",
       "        vertical-align: top;\n",
       "    }\n",
       "\n",
       "    .dataframe thead th {\n",
       "        text-align: right;\n",
       "    }\n",
       "</style>\n",
       "<table border=\"1\" class=\"dataframe\">\n",
       "  <thead>\n",
       "    <tr style=\"text-align: right;\">\n",
       "      <th></th>\n",
       "      <th>LABEL</th>\n",
       "      <th>COMMENT</th>\n",
       "    </tr>\n",
       "  </thead>\n",
       "  <tbody>\n",
       "    <tr>\n",
       "      <th>0</th>\n",
       "      <td>GM</td>\n",
       "      <td>Atali Sundar mam as bakuda jode nathi sobhati .</td>\n",
       "    </tr>\n",
       "    <tr>\n",
       "      <th>1</th>\n",
       "      <td>GM</td>\n",
       "      <td>Mast idiea  maryo Ho....tamari sikhaman amare ...</td>\n",
       "    </tr>\n",
       "    <tr>\n",
       "      <th>2</th>\n",
       "      <td>GM</td>\n",
       "      <td>Va jitu bhai va</td>\n",
       "    </tr>\n",
       "    <tr>\n",
       "      <th>3</th>\n",
       "      <td>GM</td>\n",
       "      <td>Lala</td>\n",
       "    </tr>\n",
       "    <tr>\n",
       "      <th>4</th>\n",
       "      <td>GM</td>\n",
       "      <td>Mari baby pan jove se</td>\n",
       "    </tr>\n",
       "    <tr>\n",
       "      <th>...</th>\n",
       "      <td>...</td>\n",
       "      <td>...</td>\n",
       "    </tr>\n",
       "    <tr>\n",
       "      <th>669</th>\n",
       "      <td>GP</td>\n",
       "      <td>મહાદેવનું ગીત અમને ખુબ ગમે છે</td>\n",
       "    </tr>\n",
       "    <tr>\n",
       "      <th>670</th>\n",
       "      <td>GP</td>\n",
       "      <td>અનેનગર મે જોગી આયાભજન પણ</td>\n",
       "    </tr>\n",
       "    <tr>\n",
       "      <th>671</th>\n",
       "      <td>GP</td>\n",
       "      <td>આપણા કંઠે સાંભળવુ છે</td>\n",
       "    </tr>\n",
       "    <tr>\n",
       "      <th>672</th>\n",
       "      <td>GP</td>\n",
       "      <td>‌ જય‌ભોલેનાથ</td>\n",
       "    </tr>\n",
       "    <tr>\n",
       "      <th>673</th>\n",
       "      <td>GP</td>\n",
       "      <td>આવાગિત  અજી  બનાવો  ગિતાબેન રબારી</td>\n",
       "    </tr>\n",
       "  </tbody>\n",
       "</table>\n",
       "<p>3133 rows × 2 columns</p>\n",
       "</div>"
      ],
      "text/plain": [
       "    LABEL                                            COMMENT\n",
       "0      GM  Atali Sundar mam as bakuda jode nathi sobhati .  \n",
       "1      GM  Mast idiea  maryo Ho....tamari sikhaman amare ...\n",
       "2      GM                                    Va jitu bhai va\n",
       "3      GM                                               Lala\n",
       "4      GM                              Mari baby pan jove se\n",
       "..    ...                                                ...\n",
       "669    GP                     મહાદેવનું ગીત અમને ખુબ ગમે છે \n",
       "670    GP                          અનેનગર મે જોગી આયાભજન પણ \n",
       "671    GP                               આપણા કંઠે સાંભળવુ છે\n",
       "672    GP                                       ‌ જય‌ભોલેનાથ\n",
       "673    GP                  આવાગિત  અજી  બનાવો  ગિતાબેન રબારી\n",
       "\n",
       "[3133 rows x 2 columns]"
      ]
     },
     "execution_count": 7,
     "metadata": {},
     "output_type": "execute_result"
    }
   ],
   "source": [
    "gujdataset = pd.concat([gujmixdataset, gujpuredataset])\n",
    "gujdataset.isnull().sum()\n",
    "gujdataset.dropna()"
   ]
  },
  {
   "cell_type": "code",
   "execution_count": 8,
   "metadata": {
    "colab": {
     "base_uri": "https://localhost:8080/",
     "height": 423
    },
    "id": "OQN5cFHdMLUh",
    "outputId": "a5a34275-b7fb-45ef-9a0d-894119ce0bf8"
   },
   "outputs": [
    {
     "data": {
      "text/html": [
       "<div>\n",
       "<style scoped>\n",
       "    .dataframe tbody tr th:only-of-type {\n",
       "        vertical-align: middle;\n",
       "    }\n",
       "\n",
       "    .dataframe tbody tr th {\n",
       "        vertical-align: top;\n",
       "    }\n",
       "\n",
       "    .dataframe thead th {\n",
       "        text-align: right;\n",
       "    }\n",
       "</style>\n",
       "<table border=\"1\" class=\"dataframe\">\n",
       "  <thead>\n",
       "    <tr style=\"text-align: right;\">\n",
       "      <th></th>\n",
       "      <th>LABEL</th>\n",
       "      <th>COMMENT</th>\n",
       "    </tr>\n",
       "  </thead>\n",
       "  <tbody>\n",
       "    <tr>\n",
       "      <th>0</th>\n",
       "      <td>HM</td>\n",
       "      <td>VA  VA KYA BAT HE</td>\n",
       "    </tr>\n",
       "    <tr>\n",
       "      <th>1</th>\n",
       "      <td>HM</td>\n",
       "      <td>Bahut khub jitu bhay</td>\n",
       "    </tr>\n",
       "    <tr>\n",
       "      <th>2</th>\n",
       "      <td>HM</td>\n",
       "      <td>Sab se ðŸ‘ðŸ’¯ 1 nambr</td>\n",
       "    </tr>\n",
       "    <tr>\n",
       "      <th>3</th>\n",
       "      <td>HM</td>\n",
       "      <td>Sachi bat he jitu bhai AAP  ko call nahi kiya ...</td>\n",
       "    </tr>\n",
       "    <tr>\n",
       "      <th>4</th>\n",
       "      <td>HM</td>\n",
       "      <td>joks bhejo</td>\n",
       "    </tr>\n",
       "    <tr>\n",
       "      <th>...</th>\n",
       "      <td>...</td>\n",
       "      <td>...</td>\n",
       "    </tr>\n",
       "    <tr>\n",
       "      <th>322</th>\n",
       "      <td>HM</td>\n",
       "      <td>geeta g aap ko bohot namah kuki songs dhamal m...</td>\n",
       "    </tr>\n",
       "    <tr>\n",
       "      <th>323</th>\n",
       "      <td>HM</td>\n",
       "      <td>itne din ke bad lebel song or to aap ke gaan fav</td>\n",
       "    </tr>\n",
       "    <tr>\n",
       "      <th>324</th>\n",
       "      <td>HM</td>\n",
       "      <td>Geeta bahan yah gana aapka bahut Sundar hai Ha...</td>\n",
       "    </tr>\n",
       "    <tr>\n",
       "      <th>325</th>\n",
       "      <td>HM</td>\n",
       "      <td>Modi हे तो सब kuch Mumkin है</td>\n",
       "    </tr>\n",
       "    <tr>\n",
       "      <th>326</th>\n",
       "      <td>HM</td>\n",
       "      <td>Sir cricket pich length  20 mters hoti he</td>\n",
       "    </tr>\n",
       "  </tbody>\n",
       "</table>\n",
       "<p>327 rows × 2 columns</p>\n",
       "</div>"
      ],
      "text/plain": [
       "    LABEL                                            COMMENT\n",
       "0      HM                                  VA  VA KYA BAT HE\n",
       "1      HM                               Bahut khub jitu bhay\n",
       "2      HM                            Sab se ðŸ‘ðŸ’¯ 1 nambr\n",
       "3      HM  Sachi bat he jitu bhai AAP  ko call nahi kiya ...\n",
       "4      HM                                         joks bhejo\n",
       "..    ...                                                ...\n",
       "322    HM  geeta g aap ko bohot namah kuki songs dhamal m...\n",
       "323    HM   itne din ke bad lebel song or to aap ke gaan fav\n",
       "324    HM  Geeta bahan yah gana aapka bahut Sundar hai Ha...\n",
       "325    HM                       Modi हे तो सब kuch Mumkin है\n",
       "326    HM          Sir cricket pich length  20 mters hoti he\n",
       "\n",
       "[327 rows x 2 columns]"
      ]
     },
     "execution_count": 8,
     "metadata": {},
     "output_type": "execute_result"
    }
   ],
   "source": [
    "hinmixdataset = pd.read_csv('Hindi Mixed324.csv')\n",
    "hinmixdataset=hinmixdataset[['LABEL','comclean']]\n",
    "hinmixdataset.rename(columns = {'comclean':'COMMENT'}, inplace = True)\n",
    "hinmixdataset"
   ]
  },
  {
   "cell_type": "code",
   "execution_count": 9,
   "metadata": {
    "colab": {
     "base_uri": "https://localhost:8080/",
     "height": 423
    },
    "id": "mc0ZgqEtMMB6",
    "outputId": "f4fdb8e8-18b0-49d5-db93-c6c2b4e9cb16"
   },
   "outputs": [
    {
     "data": {
      "text/html": [
       "<div>\n",
       "<style scoped>\n",
       "    .dataframe tbody tr th:only-of-type {\n",
       "        vertical-align: middle;\n",
       "    }\n",
       "\n",
       "    .dataframe tbody tr th {\n",
       "        vertical-align: top;\n",
       "    }\n",
       "\n",
       "    .dataframe thead th {\n",
       "        text-align: right;\n",
       "    }\n",
       "</style>\n",
       "<table border=\"1\" class=\"dataframe\">\n",
       "  <thead>\n",
       "    <tr style=\"text-align: right;\">\n",
       "      <th></th>\n",
       "      <th>LABEL</th>\n",
       "      <th>COMMENT</th>\n",
       "    </tr>\n",
       "  </thead>\n",
       "  <tbody>\n",
       "    <tr>\n",
       "      <th>0</th>\n",
       "      <td>HP</td>\n",
       "      <td>गुज्जूभाई बनया दबंग यह क्यों नहीं मिलता है यूट...</td>\n",
       "    </tr>\n",
       "    <tr>\n",
       "      <th>1</th>\n",
       "      <td>HP</td>\n",
       "      <td>उमंग व्यास जी और उनकी टीम को बहुत बहुत धन्यवाद...</td>\n",
       "    </tr>\n",
       "    <tr>\n",
       "      <th>2</th>\n",
       "      <td>HP</td>\n",
       "      <td>मुझे गुजराती बिल्कुल नहीं आती लेकिन पूरी फिल्म...</td>\n",
       "    </tr>\n",
       "    <tr>\n",
       "      <th>3</th>\n",
       "      <td>HP</td>\n",
       "      <td>यत्र तत्र सर्वत्र प्रेम ही प्रेम है।।</td>\n",
       "    </tr>\n",
       "    <tr>\n",
       "      <th>4</th>\n",
       "      <td>HP</td>\n",
       "      <td>महेसुजी</td>\n",
       "    </tr>\n",
       "    <tr>\n",
       "      <th>...</th>\n",
       "      <td>...</td>\n",
       "      <td>...</td>\n",
       "    </tr>\n",
       "    <tr>\n",
       "      <th>59</th>\n",
       "      <td>HP</td>\n",
       "      <td>ए खुदा मत लिखा करो  किसी की अधूरी कहानी</td>\n",
       "    </tr>\n",
       "    <tr>\n",
       "      <th>60</th>\n",
       "      <td>HP</td>\n",
       "      <td>पसंद है वीडियो</td>\n",
       "    </tr>\n",
       "    <tr>\n",
       "      <th>61</th>\n",
       "      <td>HP</td>\n",
       "      <td>बहुत बडीया गाना</td>\n",
       "    </tr>\n",
       "    <tr>\n",
       "      <th>62</th>\n",
       "      <td>HP</td>\n",
       "      <td>🚩काल का भी उस पर क्या आघात हो …</td>\n",
       "    </tr>\n",
       "    <tr>\n",
       "      <th>63</th>\n",
       "      <td>HP</td>\n",
       "      <td>जिस बंदे पर महाकाल का हाथ हो🕉🚩🙏</td>\n",
       "    </tr>\n",
       "  </tbody>\n",
       "</table>\n",
       "<p>64 rows × 2 columns</p>\n",
       "</div>"
      ],
      "text/plain": [
       "   LABEL                                            COMMENT\n",
       "0     HP  गुज्जूभाई बनया दबंग यह क्यों नहीं मिलता है यूट...\n",
       "1     HP  उमंग व्यास जी और उनकी टीम को बहुत बहुत धन्यवाद...\n",
       "2     HP  मुझे गुजराती बिल्कुल नहीं आती लेकिन पूरी फिल्म...\n",
       "3     HP              यत्र तत्र सर्वत्र प्रेम ही प्रेम है।।\n",
       "4     HP                                            महेसुजी\n",
       "..   ...                                                ...\n",
       "59    HP          ए खुदा मत लिखा करो  किसी की अधूरी कहानी  \n",
       "60    HP                                     पसंद है वीडियो\n",
       "61    HP                                    बहुत बडीया गाना\n",
       "62    HP                    🚩काल का भी उस पर क्या आघात हो …\n",
       "63    HP                    जिस बंदे पर महाकाल का हाथ हो🕉🚩🙏\n",
       "\n",
       "[64 rows x 2 columns]"
      ]
     },
     "execution_count": 9,
     "metadata": {},
     "output_type": "execute_result"
    }
   ],
   "source": [
    "hinpuredataset = pd.read_csv('Hindi Pure 64.csv')\n",
    "hinpuredataset=hinpuredataset[['LABEL','comclean']]\n",
    "hinpuredataset.rename(columns = {'comclean':'COMMENT'}, inplace = True)\n",
    "hinpuredataset"
   ]
  },
  {
   "cell_type": "code",
   "execution_count": 10,
   "metadata": {
    "colab": {
     "base_uri": "https://localhost:8080/",
     "height": 423
    },
    "id": "h9cbXJEHROZQ",
    "outputId": "329bd175-c3c1-4775-ed54-b1df17f9024b"
   },
   "outputs": [
    {
     "data": {
      "text/html": [
       "<div>\n",
       "<style scoped>\n",
       "    .dataframe tbody tr th:only-of-type {\n",
       "        vertical-align: middle;\n",
       "    }\n",
       "\n",
       "    .dataframe tbody tr th {\n",
       "        vertical-align: top;\n",
       "    }\n",
       "\n",
       "    .dataframe thead th {\n",
       "        text-align: right;\n",
       "    }\n",
       "</style>\n",
       "<table border=\"1\" class=\"dataframe\">\n",
       "  <thead>\n",
       "    <tr style=\"text-align: right;\">\n",
       "      <th></th>\n",
       "      <th>LABEL</th>\n",
       "      <th>COMMENT</th>\n",
       "    </tr>\n",
       "  </thead>\n",
       "  <tbody>\n",
       "    <tr>\n",
       "      <th>0</th>\n",
       "      <td>HM</td>\n",
       "      <td>VA  VA KYA BAT HE</td>\n",
       "    </tr>\n",
       "    <tr>\n",
       "      <th>1</th>\n",
       "      <td>HM</td>\n",
       "      <td>Bahut khub jitu bhay</td>\n",
       "    </tr>\n",
       "    <tr>\n",
       "      <th>2</th>\n",
       "      <td>HM</td>\n",
       "      <td>Sab se ðŸ‘ðŸ’¯ 1 nambr</td>\n",
       "    </tr>\n",
       "    <tr>\n",
       "      <th>3</th>\n",
       "      <td>HM</td>\n",
       "      <td>Sachi bat he jitu bhai AAP  ko call nahi kiya ...</td>\n",
       "    </tr>\n",
       "    <tr>\n",
       "      <th>4</th>\n",
       "      <td>HM</td>\n",
       "      <td>joks bhejo</td>\n",
       "    </tr>\n",
       "    <tr>\n",
       "      <th>...</th>\n",
       "      <td>...</td>\n",
       "      <td>...</td>\n",
       "    </tr>\n",
       "    <tr>\n",
       "      <th>59</th>\n",
       "      <td>HP</td>\n",
       "      <td>ए खुदा मत लिखा करो  किसी की अधूरी कहानी</td>\n",
       "    </tr>\n",
       "    <tr>\n",
       "      <th>60</th>\n",
       "      <td>HP</td>\n",
       "      <td>पसंद है वीडियो</td>\n",
       "    </tr>\n",
       "    <tr>\n",
       "      <th>61</th>\n",
       "      <td>HP</td>\n",
       "      <td>बहुत बडीया गाना</td>\n",
       "    </tr>\n",
       "    <tr>\n",
       "      <th>62</th>\n",
       "      <td>HP</td>\n",
       "      <td>🚩काल का भी उस पर क्या आघात हो …</td>\n",
       "    </tr>\n",
       "    <tr>\n",
       "      <th>63</th>\n",
       "      <td>HP</td>\n",
       "      <td>जिस बंदे पर महाकाल का हाथ हो🕉🚩🙏</td>\n",
       "    </tr>\n",
       "  </tbody>\n",
       "</table>\n",
       "<p>391 rows × 2 columns</p>\n",
       "</div>"
      ],
      "text/plain": [
       "   LABEL                                            COMMENT\n",
       "0     HM                                  VA  VA KYA BAT HE\n",
       "1     HM                               Bahut khub jitu bhay\n",
       "2     HM                            Sab se ðŸ‘ðŸ’¯ 1 nambr\n",
       "3     HM  Sachi bat he jitu bhai AAP  ko call nahi kiya ...\n",
       "4     HM                                         joks bhejo\n",
       "..   ...                                                ...\n",
       "59    HP          ए खुदा मत लिखा करो  किसी की अधूरी कहानी  \n",
       "60    HP                                     पसंद है वीडियो\n",
       "61    HP                                    बहुत बडीया गाना\n",
       "62    HP                    🚩काल का भी उस पर क्या आघात हो …\n",
       "63    HP                    जिस बंदे पर महाकाल का हाथ हो🕉🚩🙏\n",
       "\n",
       "[391 rows x 2 columns]"
      ]
     },
     "execution_count": 10,
     "metadata": {},
     "output_type": "execute_result"
    }
   ],
   "source": [
    "hindataset = pd.concat([hinmixdataset, hinpuredataset])\n",
    "hindataset.isnull().sum()\n",
    "hindataset"
   ]
  },
  {
   "cell_type": "code",
   "execution_count": 11,
   "metadata": {
    "id": "JkYKmTsaMMO1"
   },
   "outputs": [],
   "source": [
    "engdataset=engdataset.sample(n=220)\n",
    "gujdataset=gujdataset.sample(n=220)\n",
    "hindataset=hindataset.sample(n=220)\n",
    "dataset = pd.concat([engdataset, gujdataset])\n",
    "dataset = pd.concat([dataset, hindataset])\n",
    "dataset.isnull().sum()\n",
    "dataset=dataset.dropna()\n",
    "dataset=dataset.replace(\"EM\", \"English\")\n",
    "dataset=dataset.replace(\"EP\", \"English\")\n",
    "dataset=dataset.replace(\"GM\", \"Gujarati\")\n",
    "dataset=dataset.replace(\"GP\", \"Gujarati\")\n",
    "dataset=dataset.replace(\"HM\", \"Hindi\")\n",
    "dataset=dataset.replace(\"HP\", \"Hindi\")"
   ]
  },
  {
   "cell_type": "code",
   "execution_count": 12,
   "metadata": {
    "id": "j2wA1kRGiXft"
   },
   "outputs": [],
   "source": [
    "X=dataset['COMMENT']\n",
    "y=dataset['LABEL']"
   ]
  },
  {
   "cell_type": "code",
   "execution_count": 13,
   "metadata": {
    "id": "kjJN0j28jpuf"
   },
   "outputs": [
    {
     "name": "stderr",
     "output_type": "stream",
     "text": [
      "C:\\Users\\Rohit\\AppData\\Local\\Temp\\ipykernel_10848\\2188784731.py:6: FutureWarning: Possible nested set at position 1\n",
      "  text = re.sub(r'[[]]', ' ', text)\n"
     ]
    }
   ],
   "source": [
    "data_list = []\n",
    "# iterating through all the text\n",
    "for text in X:\n",
    "       # removing the symbols and numbers\n",
    "        text = re.sub(r'[!@#$(),n\"%^*?:;~`0-9]', ' ', text)\n",
    "        text = re.sub(r'[[]]', ' ', text)\n",
    "        # converting the text to lower case\n",
    "        text = text.lower()\n",
    "        # appending to data_list\n",
    "        data_list.append(text)"
   ]
  },
  {
   "cell_type": "code",
   "execution_count": 14,
   "metadata": {
    "id": "MMt-Tbx3iLI3"
   },
   "outputs": [],
   "source": [
    "from sklearn.preprocessing import LabelEncoder\n",
    "le = LabelEncoder()\n",
    "y = le.fit_transform(y)"
   ]
  },
  {
   "cell_type": "code",
   "execution_count": 15,
   "metadata": {
    "id": "0trcXTDhlYLm"
   },
   "outputs": [],
   "source": [
    "from sklearn.feature_extraction.text import CountVectorizer\n",
    "cv = CountVectorizer()\n",
    "X = cv.fit_transform(data_list).toarray()"
   ]
  },
  {
   "cell_type": "code",
   "execution_count": 16,
   "metadata": {
    "id": "R7vhOHE-iqez"
   },
   "outputs": [],
   "source": [
    "from sklearn.model_selection import train_test_split\n",
    "x_train, x_test, y_train, y_test = train_test_split(X, y, test_size = 0.33)"
   ]
  },
  {
   "cell_type": "code",
   "execution_count": 17,
   "metadata": {
    "colab": {
     "base_uri": "https://localhost:8080/",
     "height": 74
    },
    "id": "XfWDhlwRiLXL",
    "outputId": "0f0eb53b-a31a-4204-ce58-68a32a0d44aa"
   },
   "outputs": [
    {
     "data": {
      "text/html": [
       "<style>#sk-container-id-1 {color: black;}#sk-container-id-1 pre{padding: 0;}#sk-container-id-1 div.sk-toggleable {background-color: white;}#sk-container-id-1 label.sk-toggleable__label {cursor: pointer;display: block;width: 100%;margin-bottom: 0;padding: 0.3em;box-sizing: border-box;text-align: center;}#sk-container-id-1 label.sk-toggleable__label-arrow:before {content: \"▸\";float: left;margin-right: 0.25em;color: #696969;}#sk-container-id-1 label.sk-toggleable__label-arrow:hover:before {color: black;}#sk-container-id-1 div.sk-estimator:hover label.sk-toggleable__label-arrow:before {color: black;}#sk-container-id-1 div.sk-toggleable__content {max-height: 0;max-width: 0;overflow: hidden;text-align: left;background-color: #f0f8ff;}#sk-container-id-1 div.sk-toggleable__content pre {margin: 0.2em;color: black;border-radius: 0.25em;background-color: #f0f8ff;}#sk-container-id-1 input.sk-toggleable__control:checked~div.sk-toggleable__content {max-height: 200px;max-width: 100%;overflow: auto;}#sk-container-id-1 input.sk-toggleable__control:checked~label.sk-toggleable__label-arrow:before {content: \"▾\";}#sk-container-id-1 div.sk-estimator input.sk-toggleable__control:checked~label.sk-toggleable__label {background-color: #d4ebff;}#sk-container-id-1 div.sk-label input.sk-toggleable__control:checked~label.sk-toggleable__label {background-color: #d4ebff;}#sk-container-id-1 input.sk-hidden--visually {border: 0;clip: rect(1px 1px 1px 1px);clip: rect(1px, 1px, 1px, 1px);height: 1px;margin: -1px;overflow: hidden;padding: 0;position: absolute;width: 1px;}#sk-container-id-1 div.sk-estimator {font-family: monospace;background-color: #f0f8ff;border: 1px dotted black;border-radius: 0.25em;box-sizing: border-box;margin-bottom: 0.5em;}#sk-container-id-1 div.sk-estimator:hover {background-color: #d4ebff;}#sk-container-id-1 div.sk-parallel-item::after {content: \"\";width: 100%;border-bottom: 1px solid gray;flex-grow: 1;}#sk-container-id-1 div.sk-label:hover label.sk-toggleable__label {background-color: #d4ebff;}#sk-container-id-1 div.sk-serial::before {content: \"\";position: absolute;border-left: 1px solid gray;box-sizing: border-box;top: 0;bottom: 0;left: 50%;z-index: 0;}#sk-container-id-1 div.sk-serial {display: flex;flex-direction: column;align-items: center;background-color: white;padding-right: 0.2em;padding-left: 0.2em;position: relative;}#sk-container-id-1 div.sk-item {position: relative;z-index: 1;}#sk-container-id-1 div.sk-parallel {display: flex;align-items: stretch;justify-content: center;background-color: white;position: relative;}#sk-container-id-1 div.sk-item::before, #sk-container-id-1 div.sk-parallel-item::before {content: \"\";position: absolute;border-left: 1px solid gray;box-sizing: border-box;top: 0;bottom: 0;left: 50%;z-index: -1;}#sk-container-id-1 div.sk-parallel-item {display: flex;flex-direction: column;z-index: 1;position: relative;background-color: white;}#sk-container-id-1 div.sk-parallel-item:first-child::after {align-self: flex-end;width: 50%;}#sk-container-id-1 div.sk-parallel-item:last-child::after {align-self: flex-start;width: 50%;}#sk-container-id-1 div.sk-parallel-item:only-child::after {width: 0;}#sk-container-id-1 div.sk-dashed-wrapped {border: 1px dashed gray;margin: 0 0.4em 0.5em 0.4em;box-sizing: border-box;padding-bottom: 0.4em;background-color: white;}#sk-container-id-1 div.sk-label label {font-family: monospace;font-weight: bold;display: inline-block;line-height: 1.2em;}#sk-container-id-1 div.sk-label-container {text-align: center;}#sk-container-id-1 div.sk-container {/* jupyter's `normalize.less` sets `[hidden] { display: none; }` but bootstrap.min.css set `[hidden] { display: none !important; }` so we also need the `!important` here to be able to override the default hidden behavior on the sphinx rendered scikit-learn.org. See: https://github.com/scikit-learn/scikit-learn/issues/21755 */display: inline-block !important;position: relative;}#sk-container-id-1 div.sk-text-repr-fallback {display: none;}</style><div id=\"sk-container-id-1\" class=\"sk-top-container\"><div class=\"sk-text-repr-fallback\"><pre>MultinomialNB()</pre><b>In a Jupyter environment, please rerun this cell to show the HTML representation or trust the notebook. <br />On GitHub, the HTML representation is unable to render, please try loading this page with nbviewer.org.</b></div><div class=\"sk-container\" hidden><div class=\"sk-item\"><div class=\"sk-estimator sk-toggleable\"><input class=\"sk-toggleable__control sk-hidden--visually\" id=\"sk-estimator-id-1\" type=\"checkbox\" checked><label for=\"sk-estimator-id-1\" class=\"sk-toggleable__label sk-toggleable__label-arrow\">MultinomialNB</label><div class=\"sk-toggleable__content\"><pre>MultinomialNB()</pre></div></div></div></div></div>"
      ],
      "text/plain": [
       "MultinomialNB()"
      ]
     },
     "execution_count": 17,
     "metadata": {},
     "output_type": "execute_result"
    }
   ],
   "source": [
    "from sklearn.naive_bayes import MultinomialNB\n",
    "model = MultinomialNB()\n",
    "model.fit(x_train, y_train)"
   ]
  },
  {
   "cell_type": "code",
   "execution_count": 18,
   "metadata": {
    "id": "-aEp6N5uiLhe"
   },
   "outputs": [],
   "source": [
    "y_pred = model.predict(x_test)"
   ]
  },
  {
   "cell_type": "code",
   "execution_count": 19,
   "metadata": {
    "colab": {
     "base_uri": "https://localhost:8080/"
    },
    "id": "ktYBFLyPiLpx",
    "outputId": "b038161f-5472-424e-cdb9-5f1aaabe5777"
   },
   "outputs": [
    {
     "name": "stdout",
     "output_type": "stream",
     "text": [
      "Accuracy is : 0.8073394495412844\n"
     ]
    }
   ],
   "source": [
    "from sklearn.metrics import accuracy_score, confusion_matrix, classification_report\n",
    "ac = accuracy_score(y_test, y_pred)\n",
    "cm = confusion_matrix(y_test, y_pred)\n",
    "\n",
    "print(\"Accuracy is :\",ac)"
   ]
  },
  {
   "cell_type": "code",
   "execution_count": 20,
   "metadata": {
    "colab": {
     "base_uri": "https://localhost:8080/"
    },
    "id": "MMXrapFol2Kt",
    "outputId": "d8b26af8-68e8-4a59-9285-650dc4e08673"
   },
   "outputs": [
    {
     "name": "stdout",
     "output_type": "stream",
     "text": [
      "The langauge is in Hindi\n"
     ]
    }
   ],
   "source": [
    "def prediction(text):\n",
    "    x = cv.transform([text]).toarray()\n",
    "    lang = model.predict(x)\n",
    "    lang = le.inverse_transform(lang)\n",
    "    print(\"The langauge is in\",lang[0])\n",
    "# English\n",
    "prediction(\"kaisa hai\")"
   ]
  },
  {
   "cell_type": "code",
   "execution_count": 21,
   "metadata": {
    "colab": {
     "base_uri": "https://localhost:8080/",
     "height": 74
    },
    "id": "VPWHoXpzoguP",
    "outputId": "6e373ca5-fe77-4025-db7c-bf3f82344e41"
   },
   "outputs": [
    {
     "data": {
      "text/html": [
       "<style>#sk-container-id-2 {color: black;}#sk-container-id-2 pre{padding: 0;}#sk-container-id-2 div.sk-toggleable {background-color: white;}#sk-container-id-2 label.sk-toggleable__label {cursor: pointer;display: block;width: 100%;margin-bottom: 0;padding: 0.3em;box-sizing: border-box;text-align: center;}#sk-container-id-2 label.sk-toggleable__label-arrow:before {content: \"▸\";float: left;margin-right: 0.25em;color: #696969;}#sk-container-id-2 label.sk-toggleable__label-arrow:hover:before {color: black;}#sk-container-id-2 div.sk-estimator:hover label.sk-toggleable__label-arrow:before {color: black;}#sk-container-id-2 div.sk-toggleable__content {max-height: 0;max-width: 0;overflow: hidden;text-align: left;background-color: #f0f8ff;}#sk-container-id-2 div.sk-toggleable__content pre {margin: 0.2em;color: black;border-radius: 0.25em;background-color: #f0f8ff;}#sk-container-id-2 input.sk-toggleable__control:checked~div.sk-toggleable__content {max-height: 200px;max-width: 100%;overflow: auto;}#sk-container-id-2 input.sk-toggleable__control:checked~label.sk-toggleable__label-arrow:before {content: \"▾\";}#sk-container-id-2 div.sk-estimator input.sk-toggleable__control:checked~label.sk-toggleable__label {background-color: #d4ebff;}#sk-container-id-2 div.sk-label input.sk-toggleable__control:checked~label.sk-toggleable__label {background-color: #d4ebff;}#sk-container-id-2 input.sk-hidden--visually {border: 0;clip: rect(1px 1px 1px 1px);clip: rect(1px, 1px, 1px, 1px);height: 1px;margin: -1px;overflow: hidden;padding: 0;position: absolute;width: 1px;}#sk-container-id-2 div.sk-estimator {font-family: monospace;background-color: #f0f8ff;border: 1px dotted black;border-radius: 0.25em;box-sizing: border-box;margin-bottom: 0.5em;}#sk-container-id-2 div.sk-estimator:hover {background-color: #d4ebff;}#sk-container-id-2 div.sk-parallel-item::after {content: \"\";width: 100%;border-bottom: 1px solid gray;flex-grow: 1;}#sk-container-id-2 div.sk-label:hover label.sk-toggleable__label {background-color: #d4ebff;}#sk-container-id-2 div.sk-serial::before {content: \"\";position: absolute;border-left: 1px solid gray;box-sizing: border-box;top: 0;bottom: 0;left: 50%;z-index: 0;}#sk-container-id-2 div.sk-serial {display: flex;flex-direction: column;align-items: center;background-color: white;padding-right: 0.2em;padding-left: 0.2em;position: relative;}#sk-container-id-2 div.sk-item {position: relative;z-index: 1;}#sk-container-id-2 div.sk-parallel {display: flex;align-items: stretch;justify-content: center;background-color: white;position: relative;}#sk-container-id-2 div.sk-item::before, #sk-container-id-2 div.sk-parallel-item::before {content: \"\";position: absolute;border-left: 1px solid gray;box-sizing: border-box;top: 0;bottom: 0;left: 50%;z-index: -1;}#sk-container-id-2 div.sk-parallel-item {display: flex;flex-direction: column;z-index: 1;position: relative;background-color: white;}#sk-container-id-2 div.sk-parallel-item:first-child::after {align-self: flex-end;width: 50%;}#sk-container-id-2 div.sk-parallel-item:last-child::after {align-self: flex-start;width: 50%;}#sk-container-id-2 div.sk-parallel-item:only-child::after {width: 0;}#sk-container-id-2 div.sk-dashed-wrapped {border: 1px dashed gray;margin: 0 0.4em 0.5em 0.4em;box-sizing: border-box;padding-bottom: 0.4em;background-color: white;}#sk-container-id-2 div.sk-label label {font-family: monospace;font-weight: bold;display: inline-block;line-height: 1.2em;}#sk-container-id-2 div.sk-label-container {text-align: center;}#sk-container-id-2 div.sk-container {/* jupyter's `normalize.less` sets `[hidden] { display: none; }` but bootstrap.min.css set `[hidden] { display: none !important; }` so we also need the `!important` here to be able to override the default hidden behavior on the sphinx rendered scikit-learn.org. See: https://github.com/scikit-learn/scikit-learn/issues/21755 */display: inline-block !important;position: relative;}#sk-container-id-2 div.sk-text-repr-fallback {display: none;}</style><div id=\"sk-container-id-2\" class=\"sk-top-container\"><div class=\"sk-text-repr-fallback\"><pre>LogisticRegression()</pre><b>In a Jupyter environment, please rerun this cell to show the HTML representation or trust the notebook. <br />On GitHub, the HTML representation is unable to render, please try loading this page with nbviewer.org.</b></div><div class=\"sk-container\" hidden><div class=\"sk-item\"><div class=\"sk-estimator sk-toggleable\"><input class=\"sk-toggleable__control sk-hidden--visually\" id=\"sk-estimator-id-2\" type=\"checkbox\" checked><label for=\"sk-estimator-id-2\" class=\"sk-toggleable__label sk-toggleable__label-arrow\">LogisticRegression</label><div class=\"sk-toggleable__content\"><pre>LogisticRegression()</pre></div></div></div></div></div>"
      ],
      "text/plain": [
       "LogisticRegression()"
      ]
     },
     "execution_count": 21,
     "metadata": {},
     "output_type": "execute_result"
    }
   ],
   "source": [
    "from sklearn.linear_model import LogisticRegression\n",
    "model = LogisticRegression()\n",
    "model.fit(x_train, y_train)"
   ]
  },
  {
   "cell_type": "code",
   "execution_count": 22,
   "metadata": {
    "colab": {
     "base_uri": "https://localhost:8080/"
    },
    "id": "T5ZWToOZ44mY",
    "outputId": "d89cbc6c-f60c-4f7a-e0e9-efe0694908c9"
   },
   "outputs": [
    {
     "name": "stdout",
     "output_type": "stream",
     "text": [
      "Requirement already satisfied: flask in c:\\users\\rohit\\anaconda3\\lib\\site-packages (1.1.2)\n",
      "Requirement already satisfied: Werkzeug>=0.15 in c:\\users\\rohit\\anaconda3\\lib\\site-packages (from flask) (2.0.3)\n",
      "Requirement already satisfied: Jinja2>=2.10.1 in c:\\users\\rohit\\anaconda3\\lib\\site-packages (from flask) (2.11.3)\n",
      "Requirement already satisfied: itsdangerous>=0.24 in c:\\users\\rohit\\anaconda3\\lib\\site-packages (from flask) (2.0.1)\n",
      "Requirement already satisfied: click>=5.1 in c:\\users\\rohit\\anaconda3\\lib\\site-packages (from flask) (8.0.4)\n",
      "Requirement already satisfied: colorama in c:\\users\\rohit\\anaconda3\\lib\\site-packages (from click>=5.1->flask) (0.4.4)\n",
      "Requirement already satisfied: MarkupSafe>=0.23 in c:\\users\\rohit\\anaconda3\\lib\\site-packages (from Jinja2>=2.10.1->flask) (2.0.1)\n"
     ]
    }
   ],
   "source": [
    "!pip install flask"
   ]
  },
  {
   "cell_type": "code",
   "execution_count": null,
   "metadata": {
    "colab": {
     "base_uri": "https://localhost:8080/"
    },
    "id": "WYn7-vGp4_6K",
    "outputId": "957b51d7-b66a-46d8-fb01-f8e1b2af620f"
   },
   "outputs": [
    {
     "name": "stdout",
     "output_type": "stream",
     "text": [
      " * Serving Flask app \"__main__\" (lazy loading)\n",
      " * Environment: production\n",
      "\u001b[31m   WARNING: This is a development server. Do not use it in a production deployment.\u001b[0m\n",
      "\u001b[2m   Use a production WSGI server instead.\u001b[0m\n",
      " * Debug mode: off\n"
     ]
    },
    {
     "name": "stderr",
     "output_type": "stream",
     "text": [
      " * Running on http://127.0.0.1:5000/ (Press CTRL+C to quit)\n"
     ]
    }
   ],
   "source": [
    "from flask import Flask, request, render_template \n",
    " \n",
    "# Flask constructor\n",
    "app = Flask(__name__)   \n",
    "\n",
    "@app.route('/')\n",
    "def fo():\n",
    "    return render_template('form.html')\n",
    "\n",
    "if __name__=='__main__':\n",
    "    app.run()\n",
    "    \n"
   ]
  },
  {
   "cell_type": "code",
   "execution_count": 24,
   "metadata": {
    "id": "KZ6Z5cDCBk2F"
   },
   "outputs": [],
   "source": [
    "@app.route('/process', methods=['POST'])\n",
    "def process():\n",
    "    first_name = request.form.get(\"Text\")\n",
    "    return f'{first_name}'"
   ]
  },
  {
   "cell_type": "code",
   "execution_count": null,
   "metadata": {},
   "outputs": [],
   "source": []
  }
 ],
 "metadata": {
  "colab": {
   "provenance": []
  },
  "kernelspec": {
   "display_name": "Python 3 (ipykernel)",
   "language": "python",
   "name": "python3"
  },
  "language_info": {
   "codemirror_mode": {
    "name": "ipython",
    "version": 3
   },
   "file_extension": ".py",
   "mimetype": "text/x-python",
   "name": "python",
   "nbconvert_exporter": "python",
   "pygments_lexer": "ipython3",
   "version": "3.9.12"
  }
 },
 "nbformat": 4,
 "nbformat_minor": 1
}
