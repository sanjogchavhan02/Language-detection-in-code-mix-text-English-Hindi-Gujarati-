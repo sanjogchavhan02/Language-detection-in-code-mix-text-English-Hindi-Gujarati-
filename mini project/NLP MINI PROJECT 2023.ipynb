{
 "cells": [
  {
   "cell_type": "code",
   "execution_count": 1,
   "metadata": {
    "executionInfo": {
     "elapsed": 430,
     "status": "ok",
     "timestamp": 1699202359698,
     "user": {
      "displayName": "744_SANJOG CHAVHAN",
      "userId": "06518149245038253934"
     },
     "user_tz": -330
    },
    "id": "RsV7QJqEHlP-"
   },
   "outputs": [],
   "source": [
    "import pandas as pd\n",
    "import numpy as np\n",
    "import re"
   ]
  },
  {
   "cell_type": "code",
   "execution_count": 2,
   "metadata": {
    "colab": {
     "base_uri": "https://localhost:8080/",
     "height": 390
    },
    "executionInfo": {
     "elapsed": 834,
     "status": "error",
     "timestamp": 1699202442595,
     "user": {
      "displayName": "744_SANJOG CHAVHAN",
      "userId": "06518149245038253934"
     },
     "user_tz": -330
    },
    "id": "XA9mKXW1I2qm",
    "outputId": "fa598148-186a-492e-a47c-2a1b400c3734"
   },
   "outputs": [
    {
     "data": {
      "text/html": [
       "<div>\n",
       "<style scoped>\n",
       "    .dataframe tbody tr th:only-of-type {\n",
       "        vertical-align: middle;\n",
       "    }\n",
       "\n",
       "    .dataframe tbody tr th {\n",
       "        vertical-align: top;\n",
       "    }\n",
       "\n",
       "    .dataframe thead th {\n",
       "        text-align: right;\n",
       "    }\n",
       "</style>\n",
       "<table border=\"1\" class=\"dataframe\">\n",
       "  <thead>\n",
       "    <tr style=\"text-align: right;\">\n",
       "      <th></th>\n",
       "      <th>LABEL</th>\n",
       "      <th>COMMENT</th>\n",
       "    </tr>\n",
       "  </thead>\n",
       "  <tbody>\n",
       "    <tr>\n",
       "      <th>0</th>\n",
       "      <td>EM</td>\n",
       "      <td>થેંક્યુ સર 👌👌👌👌</td>\n",
       "    </tr>\n",
       "    <tr>\n",
       "      <th>1</th>\n",
       "      <td>EM</td>\n",
       "      <td>વેરી ગુડ સાહેબ</td>\n",
       "    </tr>\n",
       "    <tr>\n",
       "      <th>2</th>\n",
       "      <td>EM</td>\n",
       "      <td>સુપર</td>\n",
       "    </tr>\n",
       "    <tr>\n",
       "      <th>3</th>\n",
       "      <td>EM</td>\n",
       "      <td>વેરી ગુડ હિમેશ રેશમિયા</td>\n",
       "    </tr>\n",
       "    <tr>\n",
       "      <th>4</th>\n",
       "      <td>EM</td>\n",
       "      <td>I m ગુજરાતીH R</td>\n",
       "    </tr>\n",
       "  </tbody>\n",
       "</table>\n",
       "</div>"
      ],
      "text/plain": [
       "  LABEL                  COMMENT\n",
       "0    EM          થેંક્યુ સર 👌👌👌👌\n",
       "1    EM           વેરી ગુડ સાહેબ\n",
       "2    EM                     સુપર\n",
       "3    EM  વેરી ગુડ હિમેશ રેશમિયા \n",
       "4    EM           I m ગુજરાતીH R"
      ]
     },
     "execution_count": 2,
     "metadata": {},
     "output_type": "execute_result"
    }
   ],
   "source": [
    "engmixdataset = pd.read_csv('Eenglish Mixed 21.csv')\n",
    "engmixdataset=engmixdataset[['LABEL','comclean']]\n",
    "engmixdataset.rename(columns = {'comclean':'COMMENT'}, inplace = True)\n",
    "engmixdataset.head()"
   ]
  },
  {
   "cell_type": "code",
   "execution_count": 3,
   "metadata": {
    "colab": {
     "base_uri": "https://localhost:8080/",
     "height": 206
    },
    "executionInfo": {
     "elapsed": 454,
     "status": "ok",
     "timestamp": 1697642373228,
     "user": {
      "displayName": "744_SANJOG CHAVHAN",
      "userId": "06518149245038253934"
     },
     "user_tz": -330
    },
    "id": "mdvPMrePKJsn",
    "outputId": "4e3b4c09-44d8-48c9-ca54-ed1949d81797",
    "scrolled": true
   },
   "outputs": [
    {
     "data": {
      "text/html": [
       "<div>\n",
       "<style scoped>\n",
       "    .dataframe tbody tr th:only-of-type {\n",
       "        vertical-align: middle;\n",
       "    }\n",
       "\n",
       "    .dataframe tbody tr th {\n",
       "        vertical-align: top;\n",
       "    }\n",
       "\n",
       "    .dataframe thead th {\n",
       "        text-align: right;\n",
       "    }\n",
       "</style>\n",
       "<table border=\"1\" class=\"dataframe\">\n",
       "  <thead>\n",
       "    <tr style=\"text-align: right;\">\n",
       "      <th></th>\n",
       "      <th>LABEL</th>\n",
       "      <th>COMMENT</th>\n",
       "    </tr>\n",
       "  </thead>\n",
       "  <tbody>\n",
       "    <tr>\n",
       "      <th>0</th>\n",
       "      <td>EP</td>\n",
       "      <td>You are very beautiful</td>\n",
       "    </tr>\n",
       "    <tr>\n",
       "      <th>1</th>\n",
       "      <td>EP</td>\n",
       "      <td>Nice</td>\n",
       "    </tr>\n",
       "    <tr>\n",
       "      <th>2</th>\n",
       "      <td>EP</td>\n",
       "      <td>Nice video jitu bhai</td>\n",
       "    </tr>\n",
       "    <tr>\n",
       "      <th>3</th>\n",
       "      <td>EP</td>\n",
       "      <td>Super</td>\n",
       "    </tr>\n",
       "    <tr>\n",
       "      <th>4</th>\n",
       "      <td>EP</td>\n",
       "      <td>Supar comedy</td>\n",
       "    </tr>\n",
       "  </tbody>\n",
       "</table>\n",
       "</div>"
      ],
      "text/plain": [
       "  LABEL                 COMMENT\n",
       "0    EP  You are very beautiful\n",
       "1    EP                    Nice\n",
       "2    EP   Nice video jitu bhai \n",
       "3    EP                   Super\n",
       "4    EP            Supar comedy"
      ]
     },
     "execution_count": 3,
     "metadata": {},
     "output_type": "execute_result"
    }
   ],
   "source": [
    "engpuredataset = pd.read_csv('English Pure 2460.csv')\n",
    "engpuredataset=engpuredataset[['LABEL','cleaned']]\n",
    "engpuredataset.rename(columns = {'cleaned':'COMMENT'}, inplace = True)\n",
    "engpuredataset.head()"
   ]
  },
  {
   "cell_type": "code",
   "execution_count": 4,
   "metadata": {
    "colab": {
     "base_uri": "https://localhost:8080/",
     "height": 423
    },
    "executionInfo": {
     "elapsed": 473,
     "status": "ok",
     "timestamp": 1697642379186,
     "user": {
      "displayName": "744_SANJOG CHAVHAN",
      "userId": "06518149245038253934"
     },
     "user_tz": -330
    },
    "id": "ImaR5RnJQpEQ",
    "outputId": "4b9bcfbb-23b7-48cf-aeb2-dc45229838b6"
   },
   "outputs": [
    {
     "data": {
      "text/html": [
       "<div>\n",
       "<style scoped>\n",
       "    .dataframe tbody tr th:only-of-type {\n",
       "        vertical-align: middle;\n",
       "    }\n",
       "\n",
       "    .dataframe tbody tr th {\n",
       "        vertical-align: top;\n",
       "    }\n",
       "\n",
       "    .dataframe thead th {\n",
       "        text-align: right;\n",
       "    }\n",
       "</style>\n",
       "<table border=\"1\" class=\"dataframe\">\n",
       "  <thead>\n",
       "    <tr style=\"text-align: right;\">\n",
       "      <th></th>\n",
       "      <th>LABEL</th>\n",
       "      <th>COMMENT</th>\n",
       "    </tr>\n",
       "  </thead>\n",
       "  <tbody>\n",
       "    <tr>\n",
       "      <th>0</th>\n",
       "      <td>EM</td>\n",
       "      <td>થેંક્યુ સર 👌👌👌👌</td>\n",
       "    </tr>\n",
       "    <tr>\n",
       "      <th>1</th>\n",
       "      <td>EM</td>\n",
       "      <td>વેરી ગુડ સાહેબ</td>\n",
       "    </tr>\n",
       "    <tr>\n",
       "      <th>2</th>\n",
       "      <td>EM</td>\n",
       "      <td>સુપર</td>\n",
       "    </tr>\n",
       "    <tr>\n",
       "      <th>3</th>\n",
       "      <td>EM</td>\n",
       "      <td>વેરી ગુડ હિમેશ રેશમિયા</td>\n",
       "    </tr>\n",
       "    <tr>\n",
       "      <th>4</th>\n",
       "      <td>EM</td>\n",
       "      <td>I m ગુજરાતીH R</td>\n",
       "    </tr>\n",
       "    <tr>\n",
       "      <th>...</th>\n",
       "      <td>...</td>\n",
       "      <td>...</td>\n",
       "    </tr>\n",
       "    <tr>\n",
       "      <th>2396</th>\n",
       "      <td>EP</td>\n",
       "      <td>You say to subscribe at starting or at end</td>\n",
       "    </tr>\n",
       "    <tr>\n",
       "      <th>2397</th>\n",
       "      <td>EP</td>\n",
       "      <td>In this app there is no picture</td>\n",
       "    </tr>\n",
       "    <tr>\n",
       "      <th>2398</th>\n",
       "      <td>EP</td>\n",
       "      <td>Everything is possible if Modi is there</td>\n",
       "    </tr>\n",
       "    <tr>\n",
       "      <th>2399</th>\n",
       "      <td>EP</td>\n",
       "      <td>Very good Himesh Reshamiya</td>\n",
       "    </tr>\n",
       "    <tr>\n",
       "      <th>2400</th>\n",
       "      <td>EP</td>\n",
       "      <td>My Favorite Song</td>\n",
       "    </tr>\n",
       "  </tbody>\n",
       "</table>\n",
       "<p>2421 rows × 2 columns</p>\n",
       "</div>"
      ],
      "text/plain": [
       "     LABEL                                     COMMENT\n",
       "0       EM                             થેંક્યુ સર 👌👌👌👌\n",
       "1       EM                              વેરી ગુડ સાહેબ\n",
       "2       EM                                        સુપર\n",
       "3       EM                     વેરી ગુડ હિમેશ રેશમિયા \n",
       "4       EM                              I m ગુજરાતીH R\n",
       "...    ...                                         ...\n",
       "2396    EP  You say to subscribe at starting or at end\n",
       "2397    EP             In this app there is no picture\n",
       "2398    EP     Everything is possible if Modi is there\n",
       "2399    EP                  Very good Himesh Reshamiya\n",
       "2400    EP                            My Favorite Song\n",
       "\n",
       "[2421 rows x 2 columns]"
      ]
     },
     "execution_count": 4,
     "metadata": {},
     "output_type": "execute_result"
    }
   ],
   "source": [
    "engdataset = pd.concat([engmixdataset, engpuredataset])\n",
    "engdataset.isnull().sum()\n",
    "engdataset"
   ]
  },
  {
   "cell_type": "code",
   "execution_count": 5,
   "metadata": {
    "colab": {
     "base_uri": "https://localhost:8080/",
     "height": 206
    },
    "executionInfo": {
     "elapsed": 1200,
     "status": "ok",
     "timestamp": 1697642399308,
     "user": {
      "displayName": "744_SANJOG CHAVHAN",
      "userId": "06518149245038253934"
     },
     "user_tz": -330
    },
    "id": "MkA6y3UnMAMk",
    "outputId": "645eee76-5b98-4725-dfc2-8ad25e71e3bf"
   },
   "outputs": [
    {
     "data": {
      "text/html": [
       "<div>\n",
       "<style scoped>\n",
       "    .dataframe tbody tr th:only-of-type {\n",
       "        vertical-align: middle;\n",
       "    }\n",
       "\n",
       "    .dataframe tbody tr th {\n",
       "        vertical-align: top;\n",
       "    }\n",
       "\n",
       "    .dataframe thead th {\n",
       "        text-align: right;\n",
       "    }\n",
       "</style>\n",
       "<table border=\"1\" class=\"dataframe\">\n",
       "  <thead>\n",
       "    <tr style=\"text-align: right;\">\n",
       "      <th></th>\n",
       "      <th>LABEL</th>\n",
       "      <th>COMMENT</th>\n",
       "    </tr>\n",
       "  </thead>\n",
       "  <tbody>\n",
       "    <tr>\n",
       "      <th>0</th>\n",
       "      <td>GM</td>\n",
       "      <td>Atali Sundar mam as bakuda jode nathi sobhati .</td>\n",
       "    </tr>\n",
       "    <tr>\n",
       "      <th>1</th>\n",
       "      <td>GM</td>\n",
       "      <td>Mast idiea  maryo Ho....tamari sikhaman amare ...</td>\n",
       "    </tr>\n",
       "    <tr>\n",
       "      <th>2</th>\n",
       "      <td>GM</td>\n",
       "      <td>Va jitu bhai va</td>\n",
       "    </tr>\n",
       "    <tr>\n",
       "      <th>3</th>\n",
       "      <td>GM</td>\n",
       "      <td>Lala</td>\n",
       "    </tr>\n",
       "    <tr>\n",
       "      <th>4</th>\n",
       "      <td>GM</td>\n",
       "      <td>Mari baby pan jove se</td>\n",
       "    </tr>\n",
       "  </tbody>\n",
       "</table>\n",
       "</div>"
      ],
      "text/plain": [
       "  LABEL                                            COMMENT\n",
       "0    GM  Atali Sundar mam as bakuda jode nathi sobhati .  \n",
       "1    GM  Mast idiea  maryo Ho....tamari sikhaman amare ...\n",
       "2    GM                                    Va jitu bhai va\n",
       "3    GM                                               Lala\n",
       "4    GM                              Mari baby pan jove se"
      ]
     },
     "execution_count": 5,
     "metadata": {},
     "output_type": "execute_result"
    }
   ],
   "source": [
    "gujmixdataset = pd.read_csv('Gujarati Mixed.csv')\n",
    "gujmixdataset=gujmixdataset[['LABEL','COMMENT']]\n",
    "gujmixdataset.head()"
   ]
  },
  {
   "cell_type": "code",
   "execution_count": 6,
   "metadata": {
    "colab": {
     "base_uri": "https://localhost:8080/",
     "height": 206
    },
    "executionInfo": {
     "elapsed": 718,
     "status": "ok",
     "timestamp": 1697642412016,
     "user": {
      "displayName": "744_SANJOG CHAVHAN",
      "userId": "06518149245038253934"
     },
     "user_tz": -330
    },
    "id": "RAgqwY4IMKFa",
    "outputId": "02e2eced-d584-4c45-a410-12b29cb98f6d"
   },
   "outputs": [
    {
     "data": {
      "text/html": [
       "<div>\n",
       "<style scoped>\n",
       "    .dataframe tbody tr th:only-of-type {\n",
       "        vertical-align: middle;\n",
       "    }\n",
       "\n",
       "    .dataframe tbody tr th {\n",
       "        vertical-align: top;\n",
       "    }\n",
       "\n",
       "    .dataframe thead th {\n",
       "        text-align: right;\n",
       "    }\n",
       "</style>\n",
       "<table border=\"1\" class=\"dataframe\">\n",
       "  <thead>\n",
       "    <tr style=\"text-align: right;\">\n",
       "      <th></th>\n",
       "      <th>LABEL</th>\n",
       "      <th>COMMENT</th>\n",
       "    </tr>\n",
       "  </thead>\n",
       "  <tbody>\n",
       "    <tr>\n",
       "      <th>0</th>\n",
       "      <td>GP</td>\n",
       "      <td>વિદ્યાર્થીઓ વચ્ચે બોલે છે એટલે ભણવામાં મજા નથી...</td>\n",
       "    </tr>\n",
       "    <tr>\n",
       "      <th>1</th>\n",
       "      <td>GP</td>\n",
       "      <td>ગુજરાતી ઇતિહાસ આવી રીતે તમે જ શીખવી શકો બીજું ...</td>\n",
       "    </tr>\n",
       "    <tr>\n",
       "      <th>2</th>\n",
       "      <td>GP</td>\n",
       "      <td>બહુ જ સરળ શબ્દો માં સચોટ શિક્ષણ  પદ્ધતિ  અભિનંદન</td>\n",
       "    </tr>\n",
       "    <tr>\n",
       "      <th>3</th>\n",
       "      <td>GP</td>\n",
       "      <td>ખુબ જ સરસ ભણાવો છોતમારા ભણાવેલા સબ્દો બધા યાદ ...</td>\n",
       "    </tr>\n",
       "    <tr>\n",
       "      <th>4</th>\n",
       "      <td>GP</td>\n",
       "      <td>પ્લે સ્ટોર માં બતાવતા નથી</td>\n",
       "    </tr>\n",
       "  </tbody>\n",
       "</table>\n",
       "</div>"
      ],
      "text/plain": [
       "  LABEL                                            COMMENT\n",
       "0    GP  વિદ્યાર્થીઓ વચ્ચે બોલે છે એટલે ભણવામાં મજા નથી...\n",
       "1    GP  ગુજરાતી ઇતિહાસ આવી રીતે તમે જ શીખવી શકો બીજું ...\n",
       "2    GP  બહુ જ સરળ શબ્દો માં સચોટ શિક્ષણ  પદ્ધતિ  અભિનંદન \n",
       "3    GP  ખુબ જ સરસ ભણાવો છોતમારા ભણાવેલા સબ્દો બધા યાદ ...\n",
       "4    GP                          પ્લે સ્ટોર માં બતાવતા નથી"
      ]
     },
     "execution_count": 6,
     "metadata": {},
     "output_type": "execute_result"
    }
   ],
   "source": [
    "gujpuredataset = pd.read_csv('Gujarati Pure 674.csv')\n",
    "gujpuredataset=gujpuredataset[['LABEL','cleaned']]\n",
    "gujpuredataset.rename(columns = {'cleaned':'COMMENT'}, inplace = True)\n",
    "gujpuredataset.head()"
   ]
  },
  {
   "cell_type": "code",
   "execution_count": 7,
   "metadata": {
    "colab": {
     "base_uri": "https://localhost:8080/",
     "height": 423
    },
    "executionInfo": {
     "elapsed": 451,
     "status": "ok",
     "timestamp": 1697642416338,
     "user": {
      "displayName": "744_SANJOG CHAVHAN",
      "userId": "06518149245038253934"
     },
     "user_tz": -330
    },
    "id": "SREzaPMvRBQx",
    "outputId": "6fff9ae0-3e38-4d58-fd46-20a035ecd867"
   },
   "outputs": [
    {
     "data": {
      "text/html": [
       "<div>\n",
       "<style scoped>\n",
       "    .dataframe tbody tr th:only-of-type {\n",
       "        vertical-align: middle;\n",
       "    }\n",
       "\n",
       "    .dataframe tbody tr th {\n",
       "        vertical-align: top;\n",
       "    }\n",
       "\n",
       "    .dataframe thead th {\n",
       "        text-align: right;\n",
       "    }\n",
       "</style>\n",
       "<table border=\"1\" class=\"dataframe\">\n",
       "  <thead>\n",
       "    <tr style=\"text-align: right;\">\n",
       "      <th></th>\n",
       "      <th>LABEL</th>\n",
       "      <th>COMMENT</th>\n",
       "    </tr>\n",
       "  </thead>\n",
       "  <tbody>\n",
       "    <tr>\n",
       "      <th>0</th>\n",
       "      <td>GM</td>\n",
       "      <td>Atali Sundar mam as bakuda jode nathi sobhati .</td>\n",
       "    </tr>\n",
       "    <tr>\n",
       "      <th>1</th>\n",
       "      <td>GM</td>\n",
       "      <td>Mast idiea  maryo Ho....tamari sikhaman amare ...</td>\n",
       "    </tr>\n",
       "    <tr>\n",
       "      <th>2</th>\n",
       "      <td>GM</td>\n",
       "      <td>Va jitu bhai va</td>\n",
       "    </tr>\n",
       "    <tr>\n",
       "      <th>3</th>\n",
       "      <td>GM</td>\n",
       "      <td>Lala</td>\n",
       "    </tr>\n",
       "    <tr>\n",
       "      <th>4</th>\n",
       "      <td>GM</td>\n",
       "      <td>Mari baby pan jove se</td>\n",
       "    </tr>\n",
       "    <tr>\n",
       "      <th>...</th>\n",
       "      <td>...</td>\n",
       "      <td>...</td>\n",
       "    </tr>\n",
       "    <tr>\n",
       "      <th>669</th>\n",
       "      <td>GP</td>\n",
       "      <td>મહાદેવનું ગીત અમને ખુબ ગમે છે</td>\n",
       "    </tr>\n",
       "    <tr>\n",
       "      <th>670</th>\n",
       "      <td>GP</td>\n",
       "      <td>અનેનગર મે જોગી આયાભજન પણ</td>\n",
       "    </tr>\n",
       "    <tr>\n",
       "      <th>671</th>\n",
       "      <td>GP</td>\n",
       "      <td>આપણા કંઠે સાંભળવુ છે</td>\n",
       "    </tr>\n",
       "    <tr>\n",
       "      <th>672</th>\n",
       "      <td>GP</td>\n",
       "      <td>‌ જય‌ભોલેનાથ</td>\n",
       "    </tr>\n",
       "    <tr>\n",
       "      <th>673</th>\n",
       "      <td>GP</td>\n",
       "      <td>આવાગિત  અજી  બનાવો  ગિતાબેન રબારી</td>\n",
       "    </tr>\n",
       "  </tbody>\n",
       "</table>\n",
       "<p>3133 rows × 2 columns</p>\n",
       "</div>"
      ],
      "text/plain": [
       "    LABEL                                            COMMENT\n",
       "0      GM  Atali Sundar mam as bakuda jode nathi sobhati .  \n",
       "1      GM  Mast idiea  maryo Ho....tamari sikhaman amare ...\n",
       "2      GM                                    Va jitu bhai va\n",
       "3      GM                                               Lala\n",
       "4      GM                              Mari baby pan jove se\n",
       "..    ...                                                ...\n",
       "669    GP                     મહાદેવનું ગીત અમને ખુબ ગમે છે \n",
       "670    GP                          અનેનગર મે જોગી આયાભજન પણ \n",
       "671    GP                               આપણા કંઠે સાંભળવુ છે\n",
       "672    GP                                       ‌ જય‌ભોલેનાથ\n",
       "673    GP                  આવાગિત  અજી  બનાવો  ગિતાબેન રબારી\n",
       "\n",
       "[3133 rows x 2 columns]"
      ]
     },
     "execution_count": 7,
     "metadata": {},
     "output_type": "execute_result"
    }
   ],
   "source": [
    "gujdataset = pd.concat([gujmixdataset, gujpuredataset])\n",
    "gujdataset.isnull().sum()\n",
    "gujdataset.dropna()"
   ]
  },
  {
   "cell_type": "code",
   "execution_count": 8,
   "metadata": {
    "colab": {
     "base_uri": "https://localhost:8080/",
     "height": 423
    },
    "executionInfo": {
     "elapsed": 721,
     "status": "ok",
     "timestamp": 1697642430941,
     "user": {
      "displayName": "744_SANJOG CHAVHAN",
      "userId": "06518149245038253934"
     },
     "user_tz": -330
    },
    "id": "OQN5cFHdMLUh",
    "outputId": "ee99c6f4-61d0-4732-f1fc-b6baa00db90a"
   },
   "outputs": [
    {
     "data": {
      "text/html": [
       "<div>\n",
       "<style scoped>\n",
       "    .dataframe tbody tr th:only-of-type {\n",
       "        vertical-align: middle;\n",
       "    }\n",
       "\n",
       "    .dataframe tbody tr th {\n",
       "        vertical-align: top;\n",
       "    }\n",
       "\n",
       "    .dataframe thead th {\n",
       "        text-align: right;\n",
       "    }\n",
       "</style>\n",
       "<table border=\"1\" class=\"dataframe\">\n",
       "  <thead>\n",
       "    <tr style=\"text-align: right;\">\n",
       "      <th></th>\n",
       "      <th>LABEL</th>\n",
       "      <th>COMMENT</th>\n",
       "    </tr>\n",
       "  </thead>\n",
       "  <tbody>\n",
       "    <tr>\n",
       "      <th>0</th>\n",
       "      <td>HM</td>\n",
       "      <td>VA  VA KYA BAT HE</td>\n",
       "    </tr>\n",
       "    <tr>\n",
       "      <th>1</th>\n",
       "      <td>HM</td>\n",
       "      <td>Bahut khub jitu bhay</td>\n",
       "    </tr>\n",
       "    <tr>\n",
       "      <th>2</th>\n",
       "      <td>HM</td>\n",
       "      <td>Sab se ðŸ‘ðŸ’¯ 1 nambr</td>\n",
       "    </tr>\n",
       "    <tr>\n",
       "      <th>3</th>\n",
       "      <td>HM</td>\n",
       "      <td>Sachi bat he jitu bhai AAP  ko call nahi kiya ...</td>\n",
       "    </tr>\n",
       "    <tr>\n",
       "      <th>4</th>\n",
       "      <td>HM</td>\n",
       "      <td>joks bhejo</td>\n",
       "    </tr>\n",
       "    <tr>\n",
       "      <th>...</th>\n",
       "      <td>...</td>\n",
       "      <td>...</td>\n",
       "    </tr>\n",
       "    <tr>\n",
       "      <th>322</th>\n",
       "      <td>HM</td>\n",
       "      <td>geeta g aap ko bohot namah kuki songs dhamal m...</td>\n",
       "    </tr>\n",
       "    <tr>\n",
       "      <th>323</th>\n",
       "      <td>HM</td>\n",
       "      <td>itne din ke bad lebel song or to aap ke gaan fav</td>\n",
       "    </tr>\n",
       "    <tr>\n",
       "      <th>324</th>\n",
       "      <td>HM</td>\n",
       "      <td>Geeta bahan yah gana aapka bahut Sundar hai Ha...</td>\n",
       "    </tr>\n",
       "    <tr>\n",
       "      <th>325</th>\n",
       "      <td>HM</td>\n",
       "      <td>Modi हे तो सब kuch Mumkin है</td>\n",
       "    </tr>\n",
       "    <tr>\n",
       "      <th>326</th>\n",
       "      <td>HM</td>\n",
       "      <td>Sir cricket pich length  20 mters hoti he</td>\n",
       "    </tr>\n",
       "  </tbody>\n",
       "</table>\n",
       "<p>327 rows × 2 columns</p>\n",
       "</div>"
      ],
      "text/plain": [
       "    LABEL                                            COMMENT\n",
       "0      HM                                  VA  VA KYA BAT HE\n",
       "1      HM                               Bahut khub jitu bhay\n",
       "2      HM                            Sab se ðŸ‘ðŸ’¯ 1 nambr\n",
       "3      HM  Sachi bat he jitu bhai AAP  ko call nahi kiya ...\n",
       "4      HM                                         joks bhejo\n",
       "..    ...                                                ...\n",
       "322    HM  geeta g aap ko bohot namah kuki songs dhamal m...\n",
       "323    HM   itne din ke bad lebel song or to aap ke gaan fav\n",
       "324    HM  Geeta bahan yah gana aapka bahut Sundar hai Ha...\n",
       "325    HM                       Modi हे तो सब kuch Mumkin है\n",
       "326    HM          Sir cricket pich length  20 mters hoti he\n",
       "\n",
       "[327 rows x 2 columns]"
      ]
     },
     "execution_count": 8,
     "metadata": {},
     "output_type": "execute_result"
    }
   ],
   "source": [
    "hinmixdataset = pd.read_csv('Hindi Mixed324.csv')\n",
    "hinmixdataset=hinmixdataset[['LABEL','comclean']]\n",
    "hinmixdataset.rename(columns = {'comclean':'COMMENT'}, inplace = True)\n",
    "hinmixdataset"
   ]
  },
  {
   "cell_type": "code",
   "execution_count": 9,
   "metadata": {
    "colab": {
     "base_uri": "https://localhost:8080/",
     "height": 423
    },
    "executionInfo": {
     "elapsed": 429,
     "status": "ok",
     "timestamp": 1697642447666,
     "user": {
      "displayName": "744_SANJOG CHAVHAN",
      "userId": "06518149245038253934"
     },
     "user_tz": -330
    },
    "id": "mc0ZgqEtMMB6",
    "outputId": "e196cd3c-e1bd-408e-be41-3cf504e13899"
   },
   "outputs": [
    {
     "data": {
      "text/html": [
       "<div>\n",
       "<style scoped>\n",
       "    .dataframe tbody tr th:only-of-type {\n",
       "        vertical-align: middle;\n",
       "    }\n",
       "\n",
       "    .dataframe tbody tr th {\n",
       "        vertical-align: top;\n",
       "    }\n",
       "\n",
       "    .dataframe thead th {\n",
       "        text-align: right;\n",
       "    }\n",
       "</style>\n",
       "<table border=\"1\" class=\"dataframe\">\n",
       "  <thead>\n",
       "    <tr style=\"text-align: right;\">\n",
       "      <th></th>\n",
       "      <th>LABEL</th>\n",
       "      <th>COMMENT</th>\n",
       "    </tr>\n",
       "  </thead>\n",
       "  <tbody>\n",
       "    <tr>\n",
       "      <th>0</th>\n",
       "      <td>HP</td>\n",
       "      <td>गुज्जूभाई बनया दबंग यह क्यों नहीं मिलता है यूट...</td>\n",
       "    </tr>\n",
       "    <tr>\n",
       "      <th>1</th>\n",
       "      <td>HP</td>\n",
       "      <td>उमंग व्यास जी और उनकी टीम को बहुत बहुत धन्यवाद...</td>\n",
       "    </tr>\n",
       "    <tr>\n",
       "      <th>2</th>\n",
       "      <td>HP</td>\n",
       "      <td>मुझे गुजराती बिल्कुल नहीं आती लेकिन पूरी फिल्म...</td>\n",
       "    </tr>\n",
       "    <tr>\n",
       "      <th>3</th>\n",
       "      <td>HP</td>\n",
       "      <td>यत्र तत्र सर्वत्र प्रेम ही प्रेम है।।</td>\n",
       "    </tr>\n",
       "    <tr>\n",
       "      <th>4</th>\n",
       "      <td>HP</td>\n",
       "      <td>महेसुजी</td>\n",
       "    </tr>\n",
       "    <tr>\n",
       "      <th>...</th>\n",
       "      <td>...</td>\n",
       "      <td>...</td>\n",
       "    </tr>\n",
       "    <tr>\n",
       "      <th>59</th>\n",
       "      <td>HP</td>\n",
       "      <td>ए खुदा मत लिखा करो  किसी की अधूरी कहानी</td>\n",
       "    </tr>\n",
       "    <tr>\n",
       "      <th>60</th>\n",
       "      <td>HP</td>\n",
       "      <td>पसंद है वीडियो</td>\n",
       "    </tr>\n",
       "    <tr>\n",
       "      <th>61</th>\n",
       "      <td>HP</td>\n",
       "      <td>बहुत बडीया गाना</td>\n",
       "    </tr>\n",
       "    <tr>\n",
       "      <th>62</th>\n",
       "      <td>HP</td>\n",
       "      <td>🚩काल का भी उस पर क्या आघात हो …</td>\n",
       "    </tr>\n",
       "    <tr>\n",
       "      <th>63</th>\n",
       "      <td>HP</td>\n",
       "      <td>जिस बंदे पर महाकाल का हाथ हो🕉🚩🙏</td>\n",
       "    </tr>\n",
       "  </tbody>\n",
       "</table>\n",
       "<p>64 rows × 2 columns</p>\n",
       "</div>"
      ],
      "text/plain": [
       "   LABEL                                            COMMENT\n",
       "0     HP  गुज्जूभाई बनया दबंग यह क्यों नहीं मिलता है यूट...\n",
       "1     HP  उमंग व्यास जी और उनकी टीम को बहुत बहुत धन्यवाद...\n",
       "2     HP  मुझे गुजराती बिल्कुल नहीं आती लेकिन पूरी फिल्म...\n",
       "3     HP              यत्र तत्र सर्वत्र प्रेम ही प्रेम है।।\n",
       "4     HP                                            महेसुजी\n",
       "..   ...                                                ...\n",
       "59    HP          ए खुदा मत लिखा करो  किसी की अधूरी कहानी  \n",
       "60    HP                                     पसंद है वीडियो\n",
       "61    HP                                    बहुत बडीया गाना\n",
       "62    HP                    🚩काल का भी उस पर क्या आघात हो …\n",
       "63    HP                    जिस बंदे पर महाकाल का हाथ हो🕉🚩🙏\n",
       "\n",
       "[64 rows x 2 columns]"
      ]
     },
     "execution_count": 9,
     "metadata": {},
     "output_type": "execute_result"
    }
   ],
   "source": [
    "hinpuredataset = pd.read_csv('Hindi Pure 64.csv')\n",
    "hinpuredataset=hinpuredataset[['LABEL','comclean']]\n",
    "hinpuredataset.rename(columns = {'comclean':'COMMENT'}, inplace = True)\n",
    "hinpuredataset"
   ]
  },
  {
   "cell_type": "code",
   "execution_count": 10,
   "metadata": {
    "colab": {
     "base_uri": "https://localhost:8080/",
     "height": 423
    },
    "executionInfo": {
     "elapsed": 438,
     "status": "ok",
     "timestamp": 1697642453617,
     "user": {
      "displayName": "744_SANJOG CHAVHAN",
      "userId": "06518149245038253934"
     },
     "user_tz": -330
    },
    "id": "h9cbXJEHROZQ",
    "outputId": "15072275-e04e-49e6-e015-de3e0cf1c584"
   },
   "outputs": [
    {
     "data": {
      "text/html": [
       "<div>\n",
       "<style scoped>\n",
       "    .dataframe tbody tr th:only-of-type {\n",
       "        vertical-align: middle;\n",
       "    }\n",
       "\n",
       "    .dataframe tbody tr th {\n",
       "        vertical-align: top;\n",
       "    }\n",
       "\n",
       "    .dataframe thead th {\n",
       "        text-align: right;\n",
       "    }\n",
       "</style>\n",
       "<table border=\"1\" class=\"dataframe\">\n",
       "  <thead>\n",
       "    <tr style=\"text-align: right;\">\n",
       "      <th></th>\n",
       "      <th>LABEL</th>\n",
       "      <th>COMMENT</th>\n",
       "    </tr>\n",
       "  </thead>\n",
       "  <tbody>\n",
       "    <tr>\n",
       "      <th>0</th>\n",
       "      <td>HM</td>\n",
       "      <td>VA  VA KYA BAT HE</td>\n",
       "    </tr>\n",
       "    <tr>\n",
       "      <th>1</th>\n",
       "      <td>HM</td>\n",
       "      <td>Bahut khub jitu bhay</td>\n",
       "    </tr>\n",
       "    <tr>\n",
       "      <th>2</th>\n",
       "      <td>HM</td>\n",
       "      <td>Sab se ðŸ‘ðŸ’¯ 1 nambr</td>\n",
       "    </tr>\n",
       "    <tr>\n",
       "      <th>3</th>\n",
       "      <td>HM</td>\n",
       "      <td>Sachi bat he jitu bhai AAP  ko call nahi kiya ...</td>\n",
       "    </tr>\n",
       "    <tr>\n",
       "      <th>4</th>\n",
       "      <td>HM</td>\n",
       "      <td>joks bhejo</td>\n",
       "    </tr>\n",
       "    <tr>\n",
       "      <th>...</th>\n",
       "      <td>...</td>\n",
       "      <td>...</td>\n",
       "    </tr>\n",
       "    <tr>\n",
       "      <th>59</th>\n",
       "      <td>HP</td>\n",
       "      <td>ए खुदा मत लिखा करो  किसी की अधूरी कहानी</td>\n",
       "    </tr>\n",
       "    <tr>\n",
       "      <th>60</th>\n",
       "      <td>HP</td>\n",
       "      <td>पसंद है वीडियो</td>\n",
       "    </tr>\n",
       "    <tr>\n",
       "      <th>61</th>\n",
       "      <td>HP</td>\n",
       "      <td>बहुत बडीया गाना</td>\n",
       "    </tr>\n",
       "    <tr>\n",
       "      <th>62</th>\n",
       "      <td>HP</td>\n",
       "      <td>🚩काल का भी उस पर क्या आघात हो …</td>\n",
       "    </tr>\n",
       "    <tr>\n",
       "      <th>63</th>\n",
       "      <td>HP</td>\n",
       "      <td>जिस बंदे पर महाकाल का हाथ हो🕉🚩🙏</td>\n",
       "    </tr>\n",
       "  </tbody>\n",
       "</table>\n",
       "<p>391 rows × 2 columns</p>\n",
       "</div>"
      ],
      "text/plain": [
       "   LABEL                                            COMMENT\n",
       "0     HM                                  VA  VA KYA BAT HE\n",
       "1     HM                               Bahut khub jitu bhay\n",
       "2     HM                            Sab se ðŸ‘ðŸ’¯ 1 nambr\n",
       "3     HM  Sachi bat he jitu bhai AAP  ko call nahi kiya ...\n",
       "4     HM                                         joks bhejo\n",
       "..   ...                                                ...\n",
       "59    HP          ए खुदा मत लिखा करो  किसी की अधूरी कहानी  \n",
       "60    HP                                     पसंद है वीडियो\n",
       "61    HP                                    बहुत बडीया गाना\n",
       "62    HP                    🚩काल का भी उस पर क्या आघात हो …\n",
       "63    HP                    जिस बंदे पर महाकाल का हाथ हो🕉🚩🙏\n",
       "\n",
       "[391 rows x 2 columns]"
      ]
     },
     "execution_count": 10,
     "metadata": {},
     "output_type": "execute_result"
    }
   ],
   "source": [
    "hindataset = pd.concat([hinmixdataset, hinpuredataset])\n",
    "hindataset.isnull().sum()\n",
    "hindataset"
   ]
  },
  {
   "cell_type": "code",
   "execution_count": 13,
   "metadata": {
    "id": "JkYKmTsaMMO1"
   },
   "outputs": [],
   "source": [
    "engdataset=engdataset.sample(n=220)\n",
    "gujdataset=gujdataset.sample(n=220)\n",
    "hindataset=hindataset.sample(n=220)\n",
    "dataset = pd.concat([engdataset, gujdataset])\n",
    "dataset = pd.concat([dataset, hindataset])\n",
    "dataset.isnull().sum()\n",
    "dataset=dataset.dropna()\n",
    "dataset=dataset.replace(\"EM\", \"English\")\n",
    "dataset=dataset.replace(\"EP\", \"English\")\n",
    "dataset=dataset.replace(\"GM\", \"Gujarati\")\n",
    "dataset=dataset.replace(\"GP\", \"Gujarati\")\n",
    "dataset=dataset.replace(\"HM\", \"Hindi\")\n",
    "dataset=dataset.replace(\"HP\", \"Hindi\")"
   ]
  },
  {
   "cell_type": "code",
   "execution_count": 14,
   "metadata": {
    "id": "j2wA1kRGiXft"
   },
   "outputs": [],
   "source": [
    "X=dataset['COMMENT']\n",
    "y=dataset['LABEL']"
   ]
  },
  {
   "cell_type": "code",
   "execution_count": 15,
   "metadata": {
    "id": "kjJN0j28jpuf"
   },
   "outputs": [
    {
     "name": "stderr",
     "output_type": "stream",
     "text": [
      "C:\\Users\\sanjo\\AppData\\Local\\Temp\\ipykernel_17276\\2188784731.py:6: FutureWarning: Possible nested set at position 1\n",
      "  text = re.sub(r'[[]]', ' ', text)\n"
     ]
    }
   ],
   "source": [
    "data_list = []\n",
    "# iterating through all the text\n",
    "for text in X:\n",
    "       # removing the symbols and numbers\n",
    "        text = re.sub(r'[!@#$(),n\"%^*?:;~`0-9]', ' ', text)\n",
    "        text = re.sub(r'[[]]', ' ', text)\n",
    "        # converting the text to lower case\n",
    "        text = text.lower()\n",
    "        # appending to data_list\n",
    "        data_list.append(text)"
   ]
  },
  {
   "cell_type": "code",
   "execution_count": 16,
   "metadata": {
    "id": "MMt-Tbx3iLI3"
   },
   "outputs": [],
   "source": [
    "from sklearn.preprocessing import LabelEncoder\n",
    "le = LabelEncoder()\n",
    "y = le.fit_transform(y)"
   ]
  },
  {
   "cell_type": "code",
   "execution_count": 17,
   "metadata": {
    "id": "0trcXTDhlYLm"
   },
   "outputs": [],
   "source": [
    "from sklearn.feature_extraction.text import CountVectorizer\n",
    "cv = CountVectorizer()\n",
    "X = cv.fit_transform(data_list).toarray()"
   ]
  },
  {
   "cell_type": "code",
   "execution_count": 18,
   "metadata": {
    "id": "R7vhOHE-iqez"
   },
   "outputs": [],
   "source": [
    "from sklearn.model_selection import train_test_split\n",
    "x_train, x_test, y_train, y_test = train_test_split(X, y, test_size = 0.33)"
   ]
  },
  {
   "cell_type": "code",
   "execution_count": 19,
   "metadata": {
    "colab": {
     "base_uri": "https://localhost:8080/",
     "height": 74
    },
    "executionInfo": {
     "elapsed": 741,
     "status": "ok",
     "timestamp": 1697642470245,
     "user": {
      "displayName": "744_SANJOG CHAVHAN",
      "userId": "06518149245038253934"
     },
     "user_tz": -330
    },
    "id": "XfWDhlwRiLXL",
    "outputId": "85e5da13-2c33-4c0c-c2c6-72b3775c0c5f",
    "scrolled": true
   },
   "outputs": [
    {
     "data": {
      "text/plain": [
       "MultinomialNB()"
      ]
     },
     "execution_count": 19,
     "metadata": {},
     "output_type": "execute_result"
    }
   ],
   "source": [
    "from sklearn.naive_bayes import MultinomialNB\n",
    "model = MultinomialNB()\n",
    "model.fit(x_train, y_train)"
   ]
  },
  {
   "cell_type": "code",
   "execution_count": 20,
   "metadata": {
    "id": "-aEp6N5uiLhe"
   },
   "outputs": [],
   "source": [
    "y_pred = model.predict(x_test)"
   ]
  },
  {
   "cell_type": "code",
   "execution_count": 21,
   "metadata": {
    "colab": {
     "base_uri": "https://localhost:8080/"
    },
    "executionInfo": {
     "elapsed": 5,
     "status": "ok",
     "timestamp": 1697642471569,
     "user": {
      "displayName": "744_SANJOG CHAVHAN",
      "userId": "06518149245038253934"
     },
     "user_tz": -330
    },
    "id": "ktYBFLyPiLpx",
    "outputId": "bd31aabb-4250-429a-8d57-e7ad28253034"
   },
   "outputs": [
    {
     "name": "stdout",
     "output_type": "stream",
     "text": [
      "Accuracy is : 0.8165137614678899\n"
     ]
    }
   ],
   "source": [
    "from sklearn.metrics import accuracy_score, confusion_matrix, classification_report\n",
    "ac = accuracy_score(y_test, y_pred)\n",
    "cm = confusion_matrix(y_test, y_pred)\n",
    "\n",
    "print(\"Accuracy is :\",ac)"
   ]
  },
  {
   "cell_type": "code",
   "execution_count": 22,
   "metadata": {
    "colab": {
     "base_uri": "https://localhost:8080/"
    },
    "executionInfo": {
     "elapsed": 3,
     "status": "ok",
     "timestamp": 1697642473319,
     "user": {
      "displayName": "744_SANJOG CHAVHAN",
      "userId": "06518149245038253934"
     },
     "user_tz": -330
    },
    "id": "MMXrapFol2Kt",
    "outputId": "5bf6bb44-bed9-4d9a-8ea1-0a988c821176"
   },
   "outputs": [
    {
     "name": "stdout",
     "output_type": "stream",
     "text": [
      "The langauge is in Gujarati\n"
     ]
    },
    {
     "data": {
      "text/plain": [
       "'Gujarati'"
      ]
     },
     "execution_count": 22,
     "metadata": {},
     "output_type": "execute_result"
    }
   ],
   "source": [
    "def prediction(text):\n",
    "    x = cv.transform([text]).toarray()\n",
    "    lang = model.predict(x)\n",
    "    lang = le.inverse_transform(lang)\n",
    "    print(\"The langauge is in\",lang[0])\n",
    "    return (lang[0])\n",
    "# English\n",
    "prediction(\"થેંક્યુ સર \")"
   ]
  },
  {
   "cell_type": "code",
   "execution_count": 23,
   "metadata": {
    "colab": {
     "base_uri": "https://localhost:8080/",
     "height": 74
    },
    "executionInfo": {
     "elapsed": 646,
     "status": "ok",
     "timestamp": 1697642474688,
     "user": {
      "displayName": "744_SANJOG CHAVHAN",
      "userId": "06518149245038253934"
     },
     "user_tz": -330
    },
    "id": "VPWHoXpzoguP",
    "outputId": "ba7c357f-3b74-4cc4-d203-f212e12a8eeb"
   },
   "outputs": [
    {
     "data": {
      "text/plain": [
       "LogisticRegression()"
      ]
     },
     "execution_count": 23,
     "metadata": {},
     "output_type": "execute_result"
    }
   ],
   "source": [
    "from sklearn.linear_model import LogisticRegression\n",
    "model = LogisticRegression()\n",
    "model.fit(x_train, y_train)"
   ]
  },
  {
   "cell_type": "code",
   "execution_count": 25,
   "metadata": {
    "colab": {
     "base_uri": "https://localhost:8080/"
    },
    "executionInfo": {
     "elapsed": 5732,
     "status": "ok",
     "timestamp": 1697642492902,
     "user": {
      "displayName": "744_SANJOG CHAVHAN",
      "userId": "06518149245038253934"
     },
     "user_tz": -330
    },
    "id": "02eOCwumIxfv",
    "outputId": "da71e92e-cb29-4b80-e095-0f6e136994ed"
   },
   "outputs": [
    {
     "name": "stdout",
     "output_type": "stream",
     "text": [
      "Requirement already satisfied: waitress in c:\\users\\sanjo\\anaconda3\\lib\\site-packages (2.1.2)\n",
      "Note: you may need to restart the kernel to use updated packages.\n"
     ]
    }
   ],
   "source": [
    "pip install waitress"
   ]
  },
  {
   "cell_type": "code",
   "execution_count": null,
   "metadata": {
    "colab": {
     "background_save": true,
     "base_uri": "https://localhost:8080/"
    },
    "id": "WYn7-vGp4_6K",
    "outputId": "2cdfa8f8-5fc2-42ac-b99f-d70bb8765cfc"
   },
   "outputs": [
    {
     "name": "stdout",
     "output_type": "stream",
     "text": [
      " * Serving Flask app \"__main__\" (lazy loading)\n",
      " * Environment: production\n",
      "\u001b[31m   WARNING: This is a development server. Do not use it in a production deployment.\u001b[0m\n",
      "\u001b[2m   Use a production WSGI server instead.\u001b[0m\n",
      " * Debug mode: off\n"
     ]
    },
    {
     "name": "stderr",
     "output_type": "stream",
     "text": [
      " * Running on http://127.0.0.1:5000/ (Press CTRL+C to quit)\n",
      "127.0.0.1 - - [05/Nov/2023 22:33:22] \"GET / HTTP/1.1\" 200 -\n",
      "127.0.0.1 - - [05/Nov/2023 22:33:28] \"POST /getprediction HTTP/1.1\" 200 -\n"
     ]
    },
    {
     "name": "stdout",
     "output_type": "stream",
     "text": [
      "The langauge is in Hindi\n"
     ]
    },
    {
     "name": "stderr",
     "output_type": "stream",
     "text": [
      "127.0.0.1 - - [05/Nov/2023 22:33:33] \"POST /getprediction HTTP/1.1\" 200 -\n"
     ]
    },
    {
     "name": "stdout",
     "output_type": "stream",
     "text": [
      "The langauge is in Gujarati\n"
     ]
    },
    {
     "name": "stderr",
     "output_type": "stream",
     "text": [
      "127.0.0.1 - - [05/Nov/2023 22:33:44] \"POST /getprediction HTTP/1.1\" 200 -\n"
     ]
    },
    {
     "name": "stdout",
     "output_type": "stream",
     "text": [
      "The langauge is in English\n"
     ]
    },
    {
     "name": "stderr",
     "output_type": "stream",
     "text": [
      "127.0.0.1 - - [05/Nov/2023 22:33:55] \"POST /getprediction HTTP/1.1\" 200 -\n"
     ]
    },
    {
     "name": "stdout",
     "output_type": "stream",
     "text": [
      "The langauge is in Hindi\n"
     ]
    },
    {
     "name": "stderr",
     "output_type": "stream",
     "text": [
      "127.0.0.1 - - [05/Nov/2023 22:34:16] \"POST /getprediction HTTP/1.1\" 200 -\n"
     ]
    },
    {
     "name": "stdout",
     "output_type": "stream",
     "text": [
      "The langauge is in Hindi\n"
     ]
    },
    {
     "name": "stderr",
     "output_type": "stream",
     "text": [
      "127.0.0.1 - - [05/Nov/2023 22:34:26] \"POST /getprediction HTTP/1.1\" 200 -\n"
     ]
    },
    {
     "name": "stdout",
     "output_type": "stream",
     "text": [
      "The langauge is in English\n"
     ]
    },
    {
     "name": "stderr",
     "output_type": "stream",
     "text": [
      "127.0.0.1 - - [05/Nov/2023 22:34:34] \"POST /getprediction HTTP/1.1\" 200 -\n"
     ]
    },
    {
     "name": "stdout",
     "output_type": "stream",
     "text": [
      "The langauge is in Gujarati\n"
     ]
    }
   ],
   "source": [
    "from flask import Flask, request, render_template\n",
    "from waitress import serve\n",
    "\n",
    "app = Flask(__name__)\n",
    "\n",
    "@app.route('/')\n",
    "def home():\n",
    "    return render_template('index.html')\n",
    "\n",
    "@app.route('/getprediction',methods=['POST'])\n",
    "def getprediction():\n",
    "    final_input =request.form.get(\"Text\")\n",
    "    pre =prediction(final_input)\n",
    "    return render_template('index.html', output='The langauge is in :{}'.format(pre))\n",
    "\n",
    "if __name__=='__main__':\n",
    "    app.run()\n",
    "\n"
   ]
  },
  {
   "cell_type": "code",
   "execution_count": null,
   "metadata": {
    "id": "KZ6Z5cDCBk2F"
   },
   "outputs": [],
   "source": []
  },
  {
   "cell_type": "code",
   "execution_count": null,
   "metadata": {
    "id": "cOJItVBYxtLo"
   },
   "outputs": [],
   "source": []
  }
 ],
 "metadata": {
  "colab": {
   "provenance": []
  },
  "kernelspec": {
   "display_name": "Python 3 (ipykernel)",
   "language": "python",
   "name": "python3"
  },
  "language_info": {
   "codemirror_mode": {
    "name": "ipython",
    "version": 3
   },
   "file_extension": ".py",
   "mimetype": "text/x-python",
   "name": "python",
   "nbconvert_exporter": "python",
   "pygments_lexer": "ipython3",
   "version": "3.9.12"
  }
 },
 "nbformat": 4,
 "nbformat_minor": 1
}
